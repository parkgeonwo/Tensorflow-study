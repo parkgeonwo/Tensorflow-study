{
  "nbformat": 4,
  "nbformat_minor": 0,
  "metadata": {
    "colab": {
      "name": "Untitled53.ipynb",
      "provenance": []
    },
    "kernelspec": {
      "name": "python3",
      "display_name": "Python 3"
    },
    "language_info": {
      "name": "python"
    }
  },
  "cells": [
    {
      "cell_type": "markdown",
      "source": [
        "# 배치정규화를 사용할 때와 사용하지 않았을 때의 차이 실험 (텐써 플로우)"
      ],
      "metadata": {
        "id": "2xiVy25qrWsv"
      }
    },
    {
      "cell_type": "markdown",
      "source": [
        "## 배치정규화를 사용하지 않았을 경우"
      ],
      "metadata": {
        "id": "Zap4OVhZrZ3H"
      }
    },
    {
      "cell_type": "code",
      "source": [
        "\n",
        "\n",
        "# 0. 필요한 패키지 가져오는 코드 \n",
        "\n",
        "import tensorflow as tf   # 텐써 플로우 2.0 \n",
        "from tensorflow.keras.datasets.mnist import load_data  # 텐써플로우에 내장되어있는 \n",
        "                                                                         # mnist 데이터를 가져온다.\n",
        "from tensorflow.keras.models import Sequential  # 모델을 구성하기 위한 모듈\n",
        "from tensorflow.keras.layers import Dense  # 완전 연결계층을 구성하기 위한 모듈\n",
        "from tensorflow.keras.utils import to_categorical # one encoding 하는 모듈\n",
        "\n",
        "tf.random.set_seed(777)\n",
        "\n"
      ],
      "metadata": {
        "id": "M5DsWrn0rEo4"
      },
      "execution_count": 1,
      "outputs": []
    },
    {
      "cell_type": "code",
      "source": [
        "\n",
        "# 1. 필기체 데이터를 불러옵니다.\n",
        "(x_train, y_train), (x_test, y_test) = load_data(path='mnist.npz')  # mnist 데이터 로드\n",
        "    \n",
        "# 2. 정규화 진행  \n",
        "x_train = (x_train.reshape((60000, 28 * 28))) / 255 \n",
        "x_test = (x_test.reshape((10000, 28 * 28))) / 255\n",
        "\n",
        "# 3. 정답 데이터를 준비한다. \n",
        "\n",
        "# 하나의 숫자를 one hot encoding 한다. (예:  4 ---> 0 0 0 0 1 0 0 0 0 0 ) \n",
        "y_train = to_categorical(y_train)  # 훈련 데이터의 라벨(정답)을 원핫 인코딩\n",
        "y_test = to_categorical(y_test)    # 테스트 데이터의 라벨(정답)을 원핫 인코딩 \n",
        "\n"
      ],
      "metadata": {
        "colab": {
          "base_uri": "https://localhost:8080/"
        },
        "id": "IRhEn3PtrEre",
        "outputId": "47a70c7c-3122-4430-874f-fbda86d2b308"
      },
      "execution_count": 2,
      "outputs": [
        {
          "output_type": "stream",
          "name": "stdout",
          "text": [
            "Downloading data from https://storage.googleapis.com/tensorflow/tf-keras-datasets/mnist.npz\n",
            "11493376/11490434 [==============================] - 0s 0us/step\n",
            "11501568/11490434 [==============================] - 0s 0us/step\n"
          ]
        }
      ]
    },
    {
      "cell_type": "code",
      "source": [
        "\n",
        "# 4. 모델을 구성합니다. 2층 신경망으로 구성\n",
        "\n",
        "model = Sequential()\n",
        "model.add(Dense(50, activation = 'sigmoid', input_shape = (784, )))  # 1층\n",
        "model.add(Dense(50, activation = 'sigmoid'))  # 2층\n",
        "model.add(Dense(10, activation = 'softmax'))  # 3층 출력층 \n",
        "\n"
      ],
      "metadata": {
        "id": "nXNcARdYrEuH"
      },
      "execution_count": 3,
      "outputs": []
    },
    {
      "cell_type": "code",
      "source": [
        "\n",
        "# 5. 모델을 설정합니다. ( 경사하강법, 오차함수를 정의해줍니다. )\n",
        "\n",
        "model.compile(optimizer='SGD',                # 경사하강법의 종류를 확률적 경사하강법으로 지정\n",
        "              loss = 'categorical_crossentropy',    # 분류의 오차함수\n",
        "              metrics=['acc'])  # 학습과정에서 정확도를 보려고 \n"
      ],
      "metadata": {
        "id": "1TWDGjbyrEwv"
      },
      "execution_count": 4,
      "outputs": []
    },
    {
      "cell_type": "code",
      "source": [
        "\n",
        "#6. 모델을 훈련시킵니다. \n",
        "\n",
        "history = model.fit(x_train, y_train, \n",
        "                    epochs = 30,  # 30에폭\n",
        "                    batch_size = 100,\n",
        "                    validation_data =(x_test, y_test))\n"
      ],
      "metadata": {
        "id": "PvkFEhhLrEzH"
      },
      "execution_count": null,
      "outputs": []
    },
    {
      "cell_type": "code",
      "source": [
        "\n",
        "# 7.모델을 평가합니다. (오차, 정확도가 출력됩니다.)\n",
        "\n",
        "model.evaluate(x_test, y_test)\n",
        "\n"
      ],
      "metadata": {
        "colab": {
          "base_uri": "https://localhost:8080/"
        },
        "id": "w4tY7cNvrE1W",
        "outputId": "b5fda8df-be05-4720-9513-e6708d335447"
      },
      "execution_count": 6,
      "outputs": [
        {
          "output_type": "stream",
          "name": "stdout",
          "text": [
            "313/313 [==============================] - 1s 2ms/step - loss: 0.3982 - acc: 0.8894\n"
          ]
        },
        {
          "output_type": "execute_result",
          "data": {
            "text/plain": [
              "[0.3981786072254181, 0.8894000053405762]"
            ]
          },
          "metadata": {},
          "execution_count": 6
        }
      ]
    },
    {
      "cell_type": "code",
      "source": [
        "# 시각화\n",
        "import numpy as np\n",
        "\n",
        "train_acc_list=history.history['acc']\n",
        "train_acc_list\n",
        "\n",
        "test_acc_list=history.history['val_acc']\n",
        "test_acc_list\n",
        "\n",
        "import  matplotlib.pyplot  as  plt\n",
        "\n",
        "x = np.arange( len(train_acc_list) )\n",
        "plt.plot( x, train_acc_list, label='train acc')\n",
        "plt.plot( x, test_acc_list, label='test acc',  linestyle='--')\n",
        "plt.ylim(0, 1)\n",
        "plt.legend(loc='lower right')\n",
        "plt.xlabel('epochs')\n",
        "plt.ylabel('accuracy')\n",
        "plt.show()\n",
        "\n",
        "\n",
        "# 결과\n",
        "# 훈련데이터 :   0.8875     / 테스트 데이터 : 0.8894"
      ],
      "metadata": {
        "colab": {
          "base_uri": "https://localhost:8080/",
          "height": 283
        },
        "id": "2sQ0zM2crTMx",
        "outputId": "694055ab-58be-4ebc-8cd2-2e09cb5ce6ae"
      },
      "execution_count": 8,
      "outputs": [
        {
          "output_type": "display_data",
          "data": {
            "image/png": "[encoded data removed]",
            "text/plain": [
              "<Figure size 432x288 with 1 Axes>"
            ]
          },
          "metadata": {
            "needs_background": "light"
          }
        }
      ]
    },
    {
      "cell_type": "markdown",
      "source": [
        "## 배치정규화 사용했을 경우"
      ],
      "metadata": {
        "id": "BGlSF9Dsrw-w"
      }
    },
    {
      "cell_type": "code",
      "source": [
        "from tensorflow.keras.layers import Dense, BatchNormalization    # 완전 연결계층을 구성하기 위한 모듈\n",
        "\n",
        "# 4. 모델을 구성합니다. 2층 신경망으로 구성\n",
        "\n",
        "model2 = Sequential()\n",
        "model2.add(Dense(50, activation = 'sigmoid', input_shape = (784, )))  # 1층\n",
        "model2.add( BatchNormalization() )\n",
        "model2.add(Dense(50, activation = 'sigmoid'))  # 2층\n",
        "model2.add( BatchNormalization() )\n",
        "model2.add(Dense(10, activation = 'softmax'))  # 3층 출력층 \n"
      ],
      "metadata": {
        "id": "ncOTNdajrTPj"
      },
      "execution_count": 9,
      "outputs": []
    },
    {
      "cell_type": "code",
      "source": [
        "\n",
        "# 5. 모델을 설정합니다. ( 경사하강법, 오차함수를 정의해줍니다. )\n",
        "\n",
        "model2.compile(optimizer='SGD',                # 경사하강법의 종류를 확률적 경사하강법으로 지정\n",
        "              loss = 'categorical_crossentropy',    # 분류의 오차함수\n",
        "              metrics=['acc'])  # 학습과정에서 정확도를 보려고 "
      ],
      "metadata": {
        "id": "esQ6dgBQrTSB"
      },
      "execution_count": 10,
      "outputs": []
    },
    {
      "cell_type": "code",
      "source": [
        "#6. 모델을 훈련시킵니다. \n",
        "\n",
        "history = model2.fit(x_train, y_train, \n",
        "                    epochs = 30,  # 30에폭\n",
        "                    batch_size = 100,\n",
        "                    validation_data =(x_test, y_test))"
      ],
      "metadata": {
        "id": "A8rsLv4drTUY"
      },
      "execution_count": null,
      "outputs": []
    },
    {
      "cell_type": "code",
      "source": [
        "# 7.모델을 평가합니다. (오차, 정확도가 출력됩니다.)\n",
        "\n",
        "model2.evaluate(x_test, y_test)"
      ],
      "metadata": {
        "colab": {
          "base_uri": "https://localhost:8080/"
        },
        "id": "eCrSM-3ErTXP",
        "outputId": "3c75d961-efca-4ee3-cd07-c23378375fe3"
      },
      "execution_count": 12,
      "outputs": [
        {
          "output_type": "stream",
          "name": "stdout",
          "text": [
            "313/313 [==============================] - 1s 2ms/step - loss: 0.1490 - acc: 0.9570\n"
          ]
        },
        {
          "output_type": "execute_result",
          "data": {
            "text/plain": [
              "[0.14904393255710602, 0.9570000171661377]"
            ]
          },
          "metadata": {},
          "execution_count": 12
        }
      ]
    },
    {
      "cell_type": "code",
      "source": [
        "#시각화\n",
        "train_acc_list=history.history['acc']\n",
        "train_acc_list\n",
        "\n",
        "test_acc_list=history.history['val_acc']\n",
        "test_acc_list\n",
        "\n",
        "import  matplotlib.pyplot  as  plt\n",
        "\n",
        "x = np.arange( len(train_acc_list) )\n",
        "plt.plot( x, train_acc_list, label='train acc')\n",
        "plt.plot( x, test_acc_list, label='test acc',  linestyle='--')\n",
        "plt.ylim(0, 1)\n",
        "plt.legend(loc='lower right')\n",
        "plt.xlabel('epochs')\n",
        "plt.ylabel('accuracy')\n",
        "plt.show()\n"
      ],
      "metadata": {
        "colab": {
          "base_uri": "https://localhost:8080/",
          "height": 283
        },
        "id": "dP4QHYwDsENk",
        "outputId": "0ba120ea-8d56-45ef-fda4-b8f418f808f5"
      },
      "execution_count": 13,
      "outputs": [
        {
          "output_type": "display_data",
          "data": {
            "image/png": "[encoded data removed]",
            "text/plain": [
              "<Figure size 432x288 with 1 Axes>"
            ]
          },
          "metadata": {
            "needs_background": "light"
          }
        }
      ]
    },
    {
      "cell_type": "code",
      "source": [
        "# 결과\n",
        "\n",
        "# 배치정규화를 진행하지 않은 경우 정확도 : 0.8894\n",
        "\n",
        "# 배치정규화를 진행했을 경우 정확도 : 0.9570 \n",
        "\n",
        "# 배치정규화를 진행했을 때 정확도가 높게 나타났다."
      ],
      "metadata": {
        "id": "juGVleBWsEQG"
      },
      "execution_count": null,
      "outputs": []
    },
    {
      "cell_type": "code",
      "source": [
        ""
      ],
      "metadata": {
        "id": "rawbPVBvsETC"
      },
      "execution_count": null,
      "outputs": []
    }
  ]
}
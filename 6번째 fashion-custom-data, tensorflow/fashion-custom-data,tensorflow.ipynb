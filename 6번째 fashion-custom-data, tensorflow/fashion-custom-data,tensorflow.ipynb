{
  "nbformat": 4,
  "nbformat_minor": 0,
  "metadata": {
    "colab": {
      "name": "Untitled47.ipynb",
      "provenance": []
    },
    "kernelspec": {
      "name": "python3",
      "display_name": "Python 3"
    },
    "language_info": {
      "name": "python"
    }
  },
  "cells": [
    {
      "cell_type": "markdown",
      "source": [
        "![image.png](data:image/png;base64,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)"
      ],
      "metadata": {
        "id": "kPi6J8ZDM_-9"
      }
    },
    {
      "cell_type": "code",
      "source": [
        "####################### 1. 패션 mnist 데이터를 학습 시켜 모델을 준비합니다. ################\n",
        "\n",
        "# 1. mnist 데이터를 불러옵니다.\n",
        "import  tensorflow  as  tf\n",
        "from tensorflow.keras.datasets.fashion_mnist import load_data\n",
        "\n",
        "(x_train, y_train), (x_test, y_test) = load_data() \n",
        "\n",
        "# 2.1  28x28 의 shape 를 1 x 784 로 변경합니다.\n",
        "\n",
        "x_train = x_train.reshape(60000,28*28)\n",
        "x_test  = x_test.reshape(10000, 28*28)\n",
        "\n",
        "x_train = x_train/255.0\n",
        "x_test = x_test/255.0\n",
        "\n",
        "# 2.2 정답 데이터를 준비합니다. (p98 원핫인코딩을 해야합니다.)\n",
        " \n",
        "from  tensorflow.keras.utils import  to_categorical\n",
        "\n",
        "y_train = to_categorical(y_train)\n",
        "y_test = to_categorical(y_test)\n",
        "print ( y_train.shape)  # (60000, 10)\n"
      ],
      "metadata": {
        "colab": {
          "base_uri": "https://localhost:8080/"
        },
        "id": "7pvgHm46M8jd",
        "outputId": "91c39dfc-d29e-4e72-8781-577ea52dbfa9"
      },
      "execution_count": 3,
      "outputs": [
        {
          "output_type": "stream",
          "name": "stdout",
          "text": [
            "Downloading data from https://storage.googleapis.com/tensorflow/tf-keras-datasets/train-labels-idx1-ubyte.gz\n",
            "32768/29515 [=================================] - 0s 0us/step\n",
            "40960/29515 [=========================================] - 0s 0us/step\n",
            "Downloading data from https://storage.googleapis.com/tensorflow/tf-keras-datasets/train-images-idx3-ubyte.gz\n",
            "26427392/26421880 [==============================] - 0s 0us/step\n",
            "26435584/26421880 [==============================] - 0s 0us/step\n",
            "Downloading data from https://storage.googleapis.com/tensorflow/tf-keras-datasets/t10k-labels-idx1-ubyte.gz\n",
            "16384/5148 [===============================================================================================] - 0s 0us/step\n",
            "Downloading data from https://storage.googleapis.com/tensorflow/tf-keras-datasets/t10k-images-idx3-ubyte.gz\n",
            "4423680/4422102 [==============================] - 0s 0us/step\n",
            "4431872/4422102 [==============================] - 0s 0us/step\n",
            "(60000, 10)\n"
          ]
        }
      ]
    },
    {
      "cell_type": "code",
      "source": [
        "# 3. 모델을 구성합니다.\n",
        "\n",
        "#그림: https://cafe.daum.net/oracleoracle/Shyl/183\n",
        "\n",
        "from  tensorflow.keras.models  import  Sequential\n",
        "from  tensorflow.keras.layers    import  Dense\n",
        "\n",
        "model = Sequential()\n",
        "model.add(Dense(128, activation='relu', input_shape=(784, ) ) ) # 은닉1층\n",
        "model.add(Dense(128, activation='relu' ) ) # 은닉1층\n",
        "model.add(Dense( 10, activation='softmax') ) \n",
        "\n",
        "# 4. 모델을 설정합니다. (경사하강법과 오차함수를 정의해줍니다. 4장에서 배웁니다)\n",
        "\n",
        "model.compile(optimizer='adam',  # 경사하강법 \n",
        "                     loss='categorical_crossentropy',  #오차함수\n",
        "                     metrics=['acc'] )  # 학습과정에서 정확도를 보려고 지정\n",
        "\n",
        "# 5. 모델을 훈련 시킵니다.\n",
        "\n",
        "model.fit( x_train, y_train, epochs=30, batch_size=100)\n",
        "\n",
        "#model.fit( 훈련데이터, 정답, 에폭수, 배치사이즈) \n",
        "# 에폭수 :  학습횟수 (책을 몇번 볼건지)\n",
        "# 배치사이즈:  한번에 학습할 양 ( 사람은 책을 한번에 한페이지 밖에 못보지만 컴퓨터는 한번에\n",
        "#                  여러 페이지를 볼 수 있다)\n",
        "\n",
        "\n",
        "# 6. 모델을 평가합니다. (시험을 봅니다.)\n",
        "\n",
        "model.eval‎uate(x_test, y_test) \n",
        "\n",
        "model.save('/content/drive/MyDrive/pgw_fashion/fashion_model.h5')\n"
      ],
      "metadata": {
        "id": "5FSO17TUNbMv"
      },
      "execution_count": null,
      "outputs": []
    },
    {
      "cell_type": "code",
      "source": [
        "####################### 2. 만들어진 모델이 잘 불러와지는지 확인합니다.  ####################\n",
        "\n",
        "# 모델 불러오는 코드\n",
        "\n",
        "# 1. 모델을 불러옵니다.\n",
        "\n",
        "from tensorflow.keras.models import load_model\n",
        "\n",
        "new_model = load_model('/content/drive/MyDrive/pgw_fashion/fashion_model.h5')\n",
        "\n",
        "# 2.모델을 평가합니다. (오차, 정확도가 출력됩니다.)\n",
        "\n",
        "new_model.evaluate(x_test, y_test)\n"
      ],
      "metadata": {
        "colab": {
          "base_uri": "https://localhost:8080/"
        },
        "id": "mYbwuNwGM8ml",
        "outputId": "777c08b6-b511-41e5-8171-0c2a08d6bfdc"
      },
      "execution_count": 4,
      "outputs": [
        {
          "output_type": "stream",
          "name": "stdout",
          "text": [
            "313/313 [==============================] - 1s 1ms/step - loss: 0.3983 - acc: 0.8960\n"
          ]
        },
        {
          "output_type": "execute_result",
          "data": {
            "text/plain": [
              "[0.3982793092727661, 0.8960000276565552]"
            ]
          },
          "metadata": {},
          "execution_count": 4
        }
      ]
    },
    {
      "cell_type": "code",
      "source": [
        "############ 3. 테스트할 이미지를 올리기 위해 코렙과 구글 드라이브를 연동합니다. ###########\n",
        "\n",
        "from google.colab import drive\n",
        "drive.mount('/content/drive')\n"
      ],
      "metadata": {
        "id": "AOcMnN63M8rV"
      },
      "execution_count": null,
      "outputs": []
    },
    {
      "cell_type": "code",
      "source": [
        "######## 4. /content/drive/MyDrive/ 밑에 pgw_fashion 폴더를 만듭니다. ##############\n",
        "\n",
        "####### 5. /content/drive/MyDrive/pgw_fashion 밑에 아래의 dress.jpg 이미지를 올립니다. #########\n",
        "\n",
        "######### 6. 텐써 플로우를 이용하여 dress.jpg 를 흑백처리하고 28x28 로 resize 합니다. ###########\n",
        "\n",
        "%cd /content/drive/MyDrive/pgw_fashion\n",
        "\n",
        "import tensorflow as  tf\n",
        "import cv2\n",
        "\n",
        "img_path = '/content/drive/MyDrive/pgw_fashion/dress.jpg'\n",
        "\n",
        "img = cv2.imread(img_path)        # 이지미를 숫자로 변환합니다.\n",
        "img = cv2.bitwise_not(img)          # 색을 반전 시킵니다. (하얀색 배경을 검정색으로 변경)\n",
        "print(img.shape)           # (683,427,3)\n",
        "\n",
        "import tensorflow.compat.v1 as tf       # 텐써플로우 2.0 버전에서 1.0 버전의 명령어를 사용하고 싶을때 쓰는 코드\n",
        "tf.disable_v2_behavior() \n",
        "\n",
        "resized_images=tf.image.resize_images(img, (28, 28))    # 텐써플로우 1.0의 함수이고 이미지를 resize 하는 함수\n",
        "a = tf.image.rgb_to_grayscale(resized_images)     # 컬러 이미지를 흑백으로 변경하는 코드\n",
        "print(a.shape)       # (28,28,1)\n",
        "\n"
      ],
      "metadata": {
        "colab": {
          "base_uri": "https://localhost:8080/"
        },
        "id": "CM7UQLAjM8uN",
        "outputId": "9fbc7e14-247b-491b-f83c-364033cb8ba7"
      },
      "execution_count": 5,
      "outputs": [
        {
          "output_type": "stream",
          "name": "stdout",
          "text": [
            "/content/drive/MyDrive/pgw_fashion\n",
            "(683, 427, 3)\n",
            "WARNING:tensorflow:From /usr/local/lib/python3.7/dist-packages/tensorflow/python/compat/v2_compat.py:111: disable_resource_variables (from tensorflow.python.ops.variable_scope) is deprecated and will be removed in a future version.\n",
            "Instructions for updating:\n",
            "non-resource variables are not supported in the long term\n",
            "(28, 28, 1)\n"
          ]
        }
      ]
    },
    {
      "cell_type": "code",
      "source": [
        "############# 7. 전처리한 데이터를 신경망에 넣고 예측합니다. ##################\n",
        "\n",
        "import numpy as np\n",
        "\n",
        "x =tf.reshape(a, [ 28,28])          # (28,28,1) ---> (28,28)\n",
        "x2 =tf.reshape(x, [1, 784])          # (28,28) ---> (1, 784)\n",
        "# print(x2.shape)     # (1,784)\n",
        "\n",
        "from tensorflow.keras.models import load_model\n",
        "\n",
        "new_model = load_model('fashion_model.h5')\n",
        "\n",
        "results = new_model.predict(x2,steps=1)          # stpes = 1 : 예측한번할거다. / 사진이 여러개면 숫자 up\n",
        "np.argmax(results)\n"
      ],
      "metadata": {
        "colab": {
          "base_uri": "https://localhost:8080/"
        },
        "id": "IVNoFHj-M8wt",
        "outputId": "c498d9b3-e7a8-44b7-c9c8-71a2f4a08898"
      },
      "execution_count": 6,
      "outputs": [
        {
          "output_type": "stream",
          "name": "stdout",
          "text": [
            "WARNING:tensorflow:From /usr/local/lib/python3.7/dist-packages/tensorflow/python/ops/init_ops.py:97: calling GlorotUniform.__init__ (from tensorflow.python.ops.init_ops) with dtype is deprecated and will be removed in a future version.\n",
            "Instructions for updating:\n",
            "Call initializer instance with the dtype argument instead of passing it to the constructor\n",
            "WARNING:tensorflow:From /usr/local/lib/python3.7/dist-packages/tensorflow/python/ops/init_ops.py:97: calling Zeros.__init__ (from tensorflow.python.ops.init_ops) with dtype is deprecated and will be removed in a future version.\n",
            "Instructions for updating:\n",
            "Call initializer instance with the dtype argument instead of passing it to the constructor\n"
          ]
        },
        {
          "output_type": "stream",
          "name": "stderr",
          "text": [
            "/usr/local/lib/python3.7/dist-packages/keras/engine/training_v1.py:2079: UserWarning: `Model.state_updates` will be removed in a future version. This property should not be used in TensorFlow 2.0, as `updates` are applied automatically.\n",
            "  updates=self.state_updates,\n"
          ]
        },
        {
          "output_type": "execute_result",
          "data": {
            "text/plain": [
              "3"
            ]
          },
          "metadata": {},
          "execution_count": 6
        }
      ]
    },
    {
      "cell_type": "code",
      "source": [
        "############# 8. 어떤 패션인지 확인합니다. ###############\n",
        "\n",
        "target_dict = {\n",
        " 0: 'T-shirt/top',\n",
        " 1: 'Trouser',\n",
        " 2: 'Pullover',\n",
        " 3: 'Dress',\n",
        " 4: 'Coat',\n",
        " 5: 'Sandal',\n",
        " 6: 'Shirt',\n",
        " 7: 'Sneaker',\n",
        " 8: 'Bag',\n",
        " 9: 'Ankle boot',\n",
        "}\n",
        "\n",
        "print ( target_dict[np.argmax(results)] )          # Dress\n",
        "\n"
      ],
      "metadata": {
        "colab": {
          "base_uri": "https://localhost:8080/"
        },
        "id": "s4xFtm6nNmU1",
        "outputId": "656ac70f-1369-4cce-c8ed-1653ca703e91"
      },
      "execution_count": 7,
      "outputs": [
        {
          "output_type": "stream",
          "name": "stdout",
          "text": [
            "Dress\n"
          ]
        }
      ]
    },
    {
      "cell_type": "code",
      "source": [
        "# 문제. 다음의 티셔츠 사진을 신경망에 넣고 잘 맞추는지 확인합니다.\n",
        "\n",
        "img_path = '/content/drive/MyDrive/pgw_fashion/T-shirt.jpg'\n",
        "\n",
        "\n",
        "img = cv2.imread(img_path)        # 이지미를 숫자로 변환합니다.\n",
        "img = cv2.bitwise_not(img)          # 색을 반전 시킵니다. (하얀색 배경을 검정색으로 변경)\n",
        "print(img.shape)           # (683,427,3)\n",
        "\n",
        "import tensorflow.compat.v1 as tf       # 텐써플로우 2.0 버전에서 1.0 버전의 명령어를 사용하고 싶을때 쓰는 코드\n",
        "tf.disable_v2_behavior() \n",
        "\n",
        "resized_images=tf.image.resize_images(img, (28, 28))    # 텐써플로우 1.0의 함수이고 이미지를 resize 하는 함수\n",
        "a = tf.image.rgb_to_grayscale(resized_images)     # 컬러 이미지를 흑백으로 변경하는 코드\n",
        "print(a.shape)       # (28,28,1)\n",
        "\n",
        "############# 7. 전처리한 데이터를 신경망에 넣고 예측합니다. ##################\n",
        "\n",
        "import numpy as np\n",
        "\n",
        "x =tf.reshape(a, [ 28,28])          # (28,28,1) ---> (28,28)\n",
        "x2 =tf.reshape(x, [1, 784])          # (28,28) ---> (1, 784)\n",
        "# print(x2.shape)     # (1,784)\n",
        "\n",
        "from tensorflow.keras.models import load_model\n",
        "\n",
        "new_model = load_model('fashion_model.h5')\n",
        "\n",
        "results = new_model.predict(x2,steps=1)          # stpes = 1 : 예측한번할거다. / 사진이 여러개면 숫자 up\n",
        "np.argmax(results)\n",
        "\n",
        "print ( target_dict[np.argmax(results)] )          # Shirt\n"
      ],
      "metadata": {
        "colab": {
          "base_uri": "https://localhost:8080/"
        },
        "id": "-_eBPhuRNmXl",
        "outputId": "02e87744-d588-4f27-f6e9-95c62e2e152d"
      },
      "execution_count": 8,
      "outputs": [
        {
          "output_type": "stream",
          "name": "stdout",
          "text": [
            "(743, 712, 3)\n",
            "(28, 28, 1)\n",
            "Shirt\n"
          ]
        },
        {
          "output_type": "stream",
          "name": "stderr",
          "text": [
            "/usr/local/lib/python3.7/dist-packages/keras/engine/training_v1.py:2079: UserWarning: `Model.state_updates` will be removed in a future version. This property should not be used in TensorFlow 2.0, as `updates` are applied automatically.\n",
            "  updates=self.state_updates,\n"
          ]
        }
      ]
    },
    {
      "cell_type": "code",
      "source": [
        ""
      ],
      "metadata": {
        "id": "Vd61BkHqNmaN"
      },
      "execution_count": null,
      "outputs": []
    }
  ]
}
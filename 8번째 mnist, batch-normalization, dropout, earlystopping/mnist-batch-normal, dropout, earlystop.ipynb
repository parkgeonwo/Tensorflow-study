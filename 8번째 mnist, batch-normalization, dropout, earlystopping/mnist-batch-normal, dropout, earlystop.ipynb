{
  "nbformat": 4,
  "nbformat_minor": 0,
  "metadata": {
    "colab": {
      "name": "Untitled53.ipynb",
      "provenance": []
    },
    "kernelspec": {
      "name": "python3",
      "display_name": "Python 3"
    },
    "language_info": {
      "name": "python"
    }
  },
  "cells": [
    {
      "cell_type": "markdown",
      "source": [
        "# 배치정규화를 사용할 때와 사용하지 않았을 때의 차이 실험 (텐써 플로우)"
      ],
      "metadata": {
        "id": "2xiVy25qrWsv"
      }
    },
    {
      "cell_type": "markdown",
      "source": [
        "## 배치정규화를 사용하지 않았을 경우"
      ],
      "metadata": {
        "id": "Zap4OVhZrZ3H"
      }
    },
    {
      "cell_type": "code",
      "source": [
        "\n",
        "\n",
        "# 0. 필요한 패키지 가져오는 코드 \n",
        "\n",
        "import tensorflow as tf   # 텐써 플로우 2.0 \n",
        "from tensorflow.keras.datasets.mnist import load_data  # 텐써플로우에 내장되어있는 \n",
        "                                                                         # mnist 데이터를 가져온다.\n",
        "from tensorflow.keras.models import Sequential  # 모델을 구성하기 위한 모듈\n",
        "from tensorflow.keras.layers import Dense  # 완전 연결계층을 구성하기 위한 모듈\n",
        "from tensorflow.keras.utils import to_categorical # one encoding 하는 모듈\n",
        "\n",
        "tf.random.set_seed(777)\n",
        "\n"
      ],
      "metadata": {
        "id": "M5DsWrn0rEo4"
      },
      "execution_count": 1,
      "outputs": []
    },
    {
      "cell_type": "code",
      "source": [
        "\n",
        "# 1. 필기체 데이터를 불러옵니다.\n",
        "(x_train, y_train), (x_test, y_test) = load_data(path='mnist.npz')  # mnist 데이터 로드\n",
        "    \n",
        "# 2. 정규화 진행  \n",
        "x_train = (x_train.reshape((60000, 28 * 28))) / 255 \n",
        "x_test = (x_test.reshape((10000, 28 * 28))) / 255\n",
        "\n",
        "# 3. 정답 데이터를 준비한다. \n",
        "\n",
        "# 하나의 숫자를 one hot encoding 한다. (예:  4 ---> 0 0 0 0 1 0 0 0 0 0 ) \n",
        "y_train = to_categorical(y_train)  # 훈련 데이터의 라벨(정답)을 원핫 인코딩\n",
        "y_test = to_categorical(y_test)    # 테스트 데이터의 라벨(정답)을 원핫 인코딩 \n",
        "\n"
      ],
      "metadata": {
        "colab": {
          "base_uri": "https://localhost:8080/"
        },
        "id": "IRhEn3PtrEre",
        "outputId": "47a70c7c-3122-4430-874f-fbda86d2b308"
      },
      "execution_count": 2,
      "outputs": [
        {
          "output_type": "stream",
          "name": "stdout",
          "text": [
            "Downloading data from https://storage.googleapis.com/tensorflow/tf-keras-datasets/mnist.npz\n",
            "11493376/11490434 [==============================] - 0s 0us/step\n",
            "11501568/11490434 [==============================] - 0s 0us/step\n"
          ]
        }
      ]
    },
    {
      "cell_type": "code",
      "source": [
        "\n",
        "# 4. 모델을 구성합니다. 2층 신경망으로 구성\n",
        "\n",
        "model = Sequential()\n",
        "model.add(Dense(50, activation = 'sigmoid', input_shape = (784, )))  # 1층\n",
        "model.add(Dense(50, activation = 'sigmoid'))  # 2층\n",
        "model.add(Dense(10, activation = 'softmax'))  # 3층 출력층 \n",
        "\n"
      ],
      "metadata": {
        "id": "nXNcARdYrEuH"
      },
      "execution_count": 3,
      "outputs": []
    },
    {
      "cell_type": "code",
      "source": [
        "\n",
        "# 5. 모델을 설정합니다. ( 경사하강법, 오차함수를 정의해줍니다. )\n",
        "\n",
        "model.compile(optimizer='SGD',                # 경사하강법의 종류를 확률적 경사하강법으로 지정\n",
        "              loss = 'categorical_crossentropy',    # 분류의 오차함수\n",
        "              metrics=['acc'])  # 학습과정에서 정확도를 보려고 \n"
      ],
      "metadata": {
        "id": "1TWDGjbyrEwv"
      },
      "execution_count": 4,
      "outputs": []
    },
    {
      "cell_type": "code",
      "source": [
        "\n",
        "#6. 모델을 훈련시킵니다. \n",
        "\n",
        "history = model.fit(x_train, y_train, \n",
        "                    epochs = 30,  # 30에폭\n",
        "                    batch_size = 100,\n",
        "                    validation_data =(x_test, y_test))\n"
      ],
      "metadata": {
        "id": "PvkFEhhLrEzH"
      },
      "execution_count": null,
      "outputs": []
    },
    {
      "cell_type": "code",
      "source": [
        "\n",
        "# 7.모델을 평가합니다. (오차, 정확도가 출력됩니다.)\n",
        "\n",
        "model.evaluate(x_test, y_test)\n",
        "\n"
      ],
      "metadata": {
        "colab": {
          "base_uri": "https://localhost:8080/"
        },
        "id": "w4tY7cNvrE1W",
        "outputId": "b5fda8df-be05-4720-9513-e6708d335447"
      },
      "execution_count": 6,
      "outputs": [
        {
          "output_type": "stream",
          "name": "stdout",
          "text": [
            "313/313 [==============================] - 1s 2ms/step - loss: 0.3982 - acc: 0.8894\n"
          ]
        },
        {
          "output_type": "execute_result",
          "data": {
            "text/plain": [
              "[0.3981786072254181, 0.8894000053405762]"
            ]
          },
          "metadata": {},
          "execution_count": 6
        }
      ]
    },
    {
      "cell_type": "code",
      "source": [
        "# 시각화\n",
        "import numpy as np\n",
        "\n",
        "train_acc_list=history.history['acc']\n",
        "train_acc_list\n",
        "\n",
        "test_acc_list=history.history['val_acc']\n",
        "test_acc_list\n",
        "\n",
        "import  matplotlib.pyplot  as  plt\n",
        "\n",
        "x = np.arange( len(train_acc_list) )\n",
        "plt.plot( x, train_acc_list, label='train acc')\n",
        "plt.plot( x, test_acc_list, label='test acc',  linestyle='--')\n",
        "plt.ylim(0, 1)\n",
        "plt.legend(loc='lower right')\n",
        "plt.xlabel('epochs')\n",
        "plt.ylabel('accuracy')\n",
        "plt.show()\n",
        "\n",
        "\n",
        "# 결과\n",
        "# 훈련데이터 :   0.8875     / 테스트 데이터 : 0.8894"
      ],
      "metadata": {
        "colab": {
          "base_uri": "https://localhost:8080/",
          "height": 283
        },
        "id": "2sQ0zM2crTMx",
        "outputId": "694055ab-58be-4ebc-8cd2-2e09cb5ce6ae"
      },
      "execution_count": 8,
      "outputs": [
        {
          "output_type": "display_data",
          "data": {
            "image/png": "[encoded data removed]",
            "text/plain": [
              "<Figure size 432x288 with 1 Axes>"
            ]
          },
          "metadata": {
            "needs_background": "light"
          }
        }
      ]
    },
    {
      "cell_type": "markdown",
      "source": [
        "## 배치정규화 사용했을 경우"
      ],
      "metadata": {
        "id": "BGlSF9Dsrw-w"
      }
    },
    {
      "cell_type": "code",
      "source": [
        "from tensorflow.keras.layers import Dense, BatchNormalization    # 완전 연결계층을 구성하기 위한 모듈\n",
        "\n",
        "# 4. 모델을 구성합니다. 2층 신경망으로 구성\n",
        "\n",
        "model2 = Sequential()\n",
        "model2.add(Dense(50, activation = 'sigmoid', input_shape = (784, )))  # 1층\n",
        "model2.add( BatchNormalization() )\n",
        "model2.add(Dense(50, activation = 'sigmoid'))  # 2층\n",
        "model2.add( BatchNormalization() )\n",
        "model2.add(Dense(10, activation = 'softmax'))  # 3층 출력층 \n"
      ],
      "metadata": {
        "id": "ncOTNdajrTPj"
      },
      "execution_count": 9,
      "outputs": []
    },
    {
      "cell_type": "code",
      "source": [
        "\n",
        "# 5. 모델을 설정합니다. ( 경사하강법, 오차함수를 정의해줍니다. )\n",
        "\n",
        "model2.compile(optimizer='SGD',                # 경사하강법의 종류를 확률적 경사하강법으로 지정\n",
        "              loss = 'categorical_crossentropy',    # 분류의 오차함수\n",
        "              metrics=['acc'])  # 학습과정에서 정확도를 보려고 "
      ],
      "metadata": {
        "id": "esQ6dgBQrTSB"
      },
      "execution_count": 10,
      "outputs": []
    },
    {
      "cell_type": "code",
      "source": [
        "#6. 모델을 훈련시킵니다. \n",
        "\n",
        "history = model2.fit(x_train, y_train, \n",
        "                    epochs = 30,  # 30에폭\n",
        "                    batch_size = 100,\n",
        "                    validation_data =(x_test, y_test))"
      ],
      "metadata": {
        "id": "A8rsLv4drTUY"
      },
      "execution_count": null,
      "outputs": []
    },
    {
      "cell_type": "code",
      "source": [
        "# 7.모델을 평가합니다. (오차, 정확도가 출력됩니다.)\n",
        "\n",
        "model2.evaluate(x_test, y_test)"
      ],
      "metadata": {
        "colab": {
          "base_uri": "https://localhost:8080/"
        },
        "id": "eCrSM-3ErTXP",
        "outputId": "3c75d961-efca-4ee3-cd07-c23378375fe3"
      },
      "execution_count": 12,
      "outputs": [
        {
          "output_type": "stream",
          "name": "stdout",
          "text": [
            "313/313 [==============================] - 1s 2ms/step - loss: 0.1490 - acc: 0.9570\n"
          ]
        },
        {
          "output_type": "execute_result",
          "data": {
            "text/plain": [
              "[0.14904393255710602, 0.9570000171661377]"
            ]
          },
          "metadata": {},
          "execution_count": 12
        }
      ]
    },
    {
      "cell_type": "code",
      "source": [
        "#시각화\n",
        "train_acc_list=history.history['acc']\n",
        "train_acc_list\n",
        "\n",
        "test_acc_list=history.history['val_acc']\n",
        "test_acc_list\n",
        "\n",
        "import  matplotlib.pyplot  as  plt\n",
        "\n",
        "x = np.arange( len(train_acc_list) )\n",
        "plt.plot( x, train_acc_list, label='train acc')\n",
        "plt.plot( x, test_acc_list, label='test acc',  linestyle='--')\n",
        "plt.ylim(0, 1)\n",
        "plt.legend(loc='lower right')\n",
        "plt.xlabel('epochs')\n",
        "plt.ylabel('accuracy')\n",
        "plt.show()\n"
      ],
      "metadata": {
        "colab": {
          "base_uri": "https://localhost:8080/",
          "height": 283
        },
        "id": "dP4QHYwDsENk",
        "outputId": "0ba120ea-8d56-45ef-fda4-b8f418f808f5"
      },
      "execution_count": 13,
      "outputs": [
        {
          "output_type": "display_data",
          "data": {
            "image/png": "[encoded data removed]",
            "text/plain": [
              "<Figure size 432x288 with 1 Axes>"
            ]
          },
          "metadata": {
            "needs_background": "light"
          }
        }
      ]
    },
    {
      "cell_type": "code",
      "source": [
        "# 결과\n",
        "\n",
        "# 배치정규화를 진행하지 않은 경우 정확도 : 0.8894\n",
        "\n",
        "# 배치정규화를 진행했을 경우 정확도 : 0.9570 \n",
        "\n",
        "# 배치정규화를 진행했을 때 정확도가 높게 나타났다."
      ],
      "metadata": {
        "id": "juGVleBWsEQG"
      },
      "execution_count": null,
      "outputs": []
    },
    {
      "cell_type": "code",
      "source": [
        ""
      ],
      "metadata": {
        "id": "rawbPVBvsETC"
      },
      "execution_count": null,
      "outputs": []
    },
    {
      "cell_type": "markdown",
      "source": [
        "# Dropout & Earlystopping 기능 구현하기"
      ],
      "metadata": {
        "id": "-6KCjDQfu5hu"
      }
    },
    {
      "cell_type": "markdown",
      "source": [
        "## Dropout 구현하기"
      ],
      "metadata": {
        "id": "zKoojHKJvIu3"
      }
    },
    {
      "cell_type": "code",
      "source": [
        "# 텐써플로우에서 드롭아웃 지정하기 (20% 의 뉴런을 랜덤으로 삭제하고 실험)\n",
        "\n",
        "from tensorflow.keras.layers import Dense, BatchNormalization, Dropout\n",
        "\n",
        "# 4. 모델을 구성합니다. 2층 신경망으로 구성\n",
        "\n",
        "model3 = Sequential()\n",
        "model3.add(Dense(50, activation = 'relu', input_shape = (784, )))  # 1층\n",
        "model3.add( BatchNormalization() )\n",
        "model3.add( Dropout(0.2) )\n",
        "model3.add(Dense(50, activation = 'relu'))  # 2층\n",
        "model3.add( BatchNormalization() )\n",
        "model3.add( Dropout(0.2) )\n",
        "model3.add(Dense(10, activation = 'softmax'))  # 3층 출력층 \n",
        "\n",
        "\n",
        "# 5. 모델을 설정합니다. ( 경사하강법, 오차함수를 정의해줍니다. )\n",
        "\n",
        "model3.compile(optimizer='SGD',                # 경사하강법의 종류를 확률적 경사하강법으로 지정\n",
        "              loss = 'categorical_crossentropy',    # 분류의 오차함수\n",
        "              metrics=['acc'])  # 학습과정에서 정확도를 보려고 "
      ],
      "metadata": {
        "id": "GezBYvl2u2qd"
      },
      "execution_count": 14,
      "outputs": []
    },
    {
      "cell_type": "code",
      "source": [
        "#6. 모델을 훈련시킵니다. \n",
        "\n",
        "history = model3.fit(x_train, y_train, \n",
        "                    epochs = 30,  # 30에폭\n",
        "                    batch_size = 100,\n",
        "                    validation_data =(x_test, y_test))"
      ],
      "metadata": {
        "id": "XU2WxIB7u2tW"
      },
      "execution_count": null,
      "outputs": []
    },
    {
      "cell_type": "code",
      "source": [
        "# 7.모델을 평가합니다. (오차, 정확도가 출력됩니다.)\n",
        "\n",
        "model3.evaluate(x_test, y_test)"
      ],
      "metadata": {
        "colab": {
          "base_uri": "https://localhost:8080/"
        },
        "id": "TKF6ijutu2wH",
        "outputId": "04736891-9491-49c2-b66b-6c133132364b"
      },
      "execution_count": 16,
      "outputs": [
        {
          "output_type": "stream",
          "name": "stdout",
          "text": [
            "313/313 [==============================] - 1s 2ms/step - loss: 0.1050 - acc: 0.9663\n"
          ]
        },
        {
          "output_type": "execute_result",
          "data": {
            "text/plain": [
              "[0.105034738779068, 0.9663000106811523]"
            ]
          },
          "metadata": {},
          "execution_count": 16
        }
      ]
    },
    {
      "cell_type": "code",
      "source": [
        "#시각화\n",
        "train_acc_list=history.history['acc']\n",
        "print(train_acc_list[-1])\n",
        "\n",
        "test_acc_list=history.history['val_acc']\n",
        "print(test_acc_list[-1])\n",
        "\n",
        "import  matplotlib.pyplot  as  plt\n",
        "\n",
        "x = np.arange( len(train_acc_list) )\n",
        "plt.plot( x, train_acc_list, label='train acc')\n",
        "plt.plot( x, test_acc_list, label='test acc',  linestyle='--')\n",
        "plt.ylim(0, 1)\n",
        "plt.legend(loc='lower right')\n",
        "plt.xlabel('epochs')\n",
        "plt.ylabel('accuracy')\n",
        "plt.show()"
      ],
      "metadata": {
        "colab": {
          "base_uri": "https://localhost:8080/",
          "height": 319
        },
        "id": "HKiNbp5uvgx7",
        "outputId": "ace0381d-fa3c-449a-ce61-db23bc94f03c"
      },
      "execution_count": 18,
      "outputs": [
        {
          "output_type": "stream",
          "name": "stdout",
          "text": [
            "0.9557999968528748\n",
            "0.9663000106811523\n"
          ]
        },
        {
          "output_type": "display_data",
          "data": {
            "image/png": "[encoded data removed]",
            "text/plain": [
              "<Figure size 432x288 with 1 Axes>"
            ]
          },
          "metadata": {
            "needs_background": "light"
          }
        }
      ]
    },
    {
      "cell_type": "markdown",
      "source": [
        "## Earlystopping 구현하기"
      ],
      "metadata": {
        "id": "J28a0bpdvpZZ"
      }
    },
    {
      "cell_type": "code",
      "source": [
        "# 얼리스탑 기능 코드\n",
        "from tensorflow.keras.callbacks import EarlyStopping\n",
        "\n",
        "#콜백을 정의합니다.\n",
        "\n",
        "callbacks = [ EarlyStopping( monitor = 'val_acc', patience = 3 , verbose = 1 ) ]\n",
        "\n"
      ],
      "metadata": {
        "id": "RB4kiWLcvg0C"
      },
      "execution_count": 20,
      "outputs": []
    },
    {
      "cell_type": "markdown",
      "source": [
        "* 설명\n",
        "  * monitor : 관찰하고자 하는 항목으로 'val_loss'나 'val_acc' 를 주로 사용합니다.\n",
        "  * patience : 개선이 없다고 바로 종료하지 않고 개선이 없는 에폭을 얼마나 기다려 줄건지를 지정하는데 10을 준다면 개선이 없는 에폭을 10번 지속될 경우 학습을 종료하겠다.\n",
        "  * verbose : 얼마나 자세하게 정보를 표현 할 것인가를 지정( 0, 1, 2 )"
      ],
      "metadata": {
        "id": "MM8Ygz69wC7s"
      }
    },
    {
      "cell_type": "code",
      "source": [
        "# 6. 모델을 훈련시킵니다. \n",
        "\n",
        "history = model3.fit(x_train, y_train, \n",
        "                    epochs = 30,  # 30에폭\n",
        "                    batch_size = 100,\n",
        "                    validation_data =(x_test, y_test),\n",
        "                    callbacks = callbacks)"
      ],
      "metadata": {
        "colab": {
          "base_uri": "https://localhost:8080/"
        },
        "id": "6n1H7x6Tvg2R",
        "outputId": "1d46539d-a2bb-4d90-fdba-9a7eaf53ae8e"
      },
      "execution_count": 21,
      "outputs": [
        {
          "output_type": "stream",
          "name": "stdout",
          "text": [
            "Epoch 1/30\n",
            "600/600 [==============================] - 3s 4ms/step - loss: 0.1416 - acc: 0.9571 - val_loss: 0.1035 - val_acc: 0.9679\n",
            "Epoch 2/30\n",
            "600/600 [==============================] - 2s 4ms/step - loss: 0.1395 - acc: 0.9573 - val_loss: 0.1028 - val_acc: 0.9674\n",
            "Epoch 3/30\n",
            "600/600 [==============================] - 2s 4ms/step - loss: 0.1412 - acc: 0.9572 - val_loss: 0.1035 - val_acc: 0.9677\n",
            "Epoch 4/30\n",
            "600/600 [==============================] - 2s 4ms/step - loss: 0.1391 - acc: 0.9573 - val_loss: 0.1019 - val_acc: 0.9687\n",
            "Epoch 5/30\n",
            "600/600 [==============================] - 2s 4ms/step - loss: 0.1377 - acc: 0.9573 - val_loss: 0.1035 - val_acc: 0.9684\n",
            "Epoch 6/30\n",
            "600/600 [==============================] - 3s 4ms/step - loss: 0.1354 - acc: 0.9591 - val_loss: 0.0999 - val_acc: 0.9689\n",
            "Epoch 7/30\n",
            "600/600 [==============================] - 2s 4ms/step - loss: 0.1330 - acc: 0.9592 - val_loss: 0.1019 - val_acc: 0.9688\n",
            "Epoch 8/30\n",
            "600/600 [==============================] - 2s 4ms/step - loss: 0.1317 - acc: 0.9595 - val_loss: 0.0994 - val_acc: 0.9691\n",
            "Epoch 9/30\n",
            "600/600 [==============================] - 2s 4ms/step - loss: 0.1313 - acc: 0.9593 - val_loss: 0.0982 - val_acc: 0.9689\n",
            "Epoch 10/30\n",
            "600/600 [==============================] - 3s 4ms/step - loss: 0.1276 - acc: 0.9604 - val_loss: 0.0977 - val_acc: 0.9699\n",
            "Epoch 11/30\n",
            "600/600 [==============================] - 3s 5ms/step - loss: 0.1306 - acc: 0.9604 - val_loss: 0.0978 - val_acc: 0.9690\n",
            "Epoch 12/30\n",
            "600/600 [==============================] - 3s 5ms/step - loss: 0.1271 - acc: 0.9607 - val_loss: 0.0995 - val_acc: 0.9689\n",
            "Epoch 13/30\n",
            "600/600 [==============================] - 2s 4ms/step - loss: 0.1279 - acc: 0.9603 - val_loss: 0.0972 - val_acc: 0.9700\n",
            "Epoch 14/30\n",
            "600/600 [==============================] - 2s 4ms/step - loss: 0.1237 - acc: 0.9621 - val_loss: 0.0982 - val_acc: 0.9689\n",
            "Epoch 15/30\n",
            "600/600 [==============================] - 2s 4ms/step - loss: 0.1232 - acc: 0.9628 - val_loss: 0.0981 - val_acc: 0.9690\n",
            "Epoch 16/30\n",
            "600/600 [==============================] - 2s 4ms/step - loss: 0.1228 - acc: 0.9628 - val_loss: 0.0968 - val_acc: 0.9705\n",
            "Epoch 17/30\n",
            "600/600 [==============================] - 2s 4ms/step - loss: 0.1216 - acc: 0.9634 - val_loss: 0.0965 - val_acc: 0.9689\n",
            "Epoch 18/30\n",
            "600/600 [==============================] - 2s 4ms/step - loss: 0.1186 - acc: 0.9636 - val_loss: 0.0963 - val_acc: 0.9691\n",
            "Epoch 19/30\n",
            "600/600 [==============================] - 2s 4ms/step - loss: 0.1169 - acc: 0.9636 - val_loss: 0.0947 - val_acc: 0.9706\n",
            "Epoch 20/30\n",
            "600/600 [==============================] - 2s 4ms/step - loss: 0.1182 - acc: 0.9635 - val_loss: 0.0969 - val_acc: 0.9712\n",
            "Epoch 21/30\n",
            "600/600 [==============================] - 2s 4ms/step - loss: 0.1168 - acc: 0.9634 - val_loss: 0.0932 - val_acc: 0.9700\n",
            "Epoch 22/30\n",
            "600/600 [==============================] - 2s 4ms/step - loss: 0.1149 - acc: 0.9647 - val_loss: 0.0932 - val_acc: 0.9712\n",
            "Epoch 23/30\n",
            "600/600 [==============================] - 2s 4ms/step - loss: 0.1160 - acc: 0.9642 - val_loss: 0.0941 - val_acc: 0.9707\n",
            "Epoch 00023: early stopping\n"
          ]
        }
      ]
    },
    {
      "cell_type": "markdown",
      "source": [
        "- Epoch 23/30\n",
        "- 600/600 [==============================] - 2s 4ms/step - loss: 0.1160 - acc: 0.9642 - val_loss: 0.0941 - val_acc: 0.9707\n",
        "- Epoch 00023: early stopping\n",
        "\n",
        "훈련데이터의 정확도가 테스트 데이터의 정확도를 역전하는 그 시점(23에폭)에서 조기종료 했습니다."
      ],
      "metadata": {
        "id": "DGVRVBcxwtHH"
      }
    },
    {
      "cell_type": "code",
      "source": [
        ""
      ],
      "metadata": {
        "id": "1AoDb1b6vg4c"
      },
      "execution_count": null,
      "outputs": []
    },
    {
      "cell_type": "code",
      "source": [
        ""
      ],
      "metadata": {
        "id": "WuXO4Mx5u2zk"
      },
      "execution_count": null,
      "outputs": []
    }
  ]
}
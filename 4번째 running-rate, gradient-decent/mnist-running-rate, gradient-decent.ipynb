{
  "nbformat": 4,
  "nbformat_minor": 0,
  "metadata": {
    "colab": {
      "name": "Untitled45.ipynb",
      "provenance": []
    },
    "kernelspec": {
      "name": "python3",
      "display_name": "Python 3"
    },
    "language_info": {
      "name": "python"
    }
  },
  "cells": [
    {
      "cell_type": "code",
      "execution_count": null,
      "metadata": {
        "id": "IgzQmVNnwH-5"
      },
      "outputs": [],
      "source": [
        "# tensorflow 러닝레이트 관련 실습\n"
      ]
    },
    {
      "cell_type": "code",
      "source": [
        "# 1. 필요한 패키지 가져오는 코드 \n",
        "\n",
        "import tensorflow as tf   # 텐써 플로우 2.0 \n",
        "from tensorflow.keras.datasets.mnist import load_data  # 텐써플로우에 내장되어있는 \n",
        "                                                                         # mnist 데이터를 가져온다.\n",
        "from tensorflow.keras.models import Sequential  # 모델을 구성하기 위한 모듈\n",
        "from tensorflow.keras.layers import Dense  # 완전 연결계층을 구성하기 위한 모듈\n",
        "from tensorflow.keras.utils import to_categorical # one hot encoding 하는 모듈\n",
        "from tensorflow.keras import backend as K    # 텐써 플로우를 사용하지 않았을때의 코드로 구현할 수 있게 하는 코드\n",
        "from tensorflow.keras.layers import Dense, Flatten\n",
        "\n",
        "tf.random.set_seed(777)\n",
        "\n",
        "(x_train, y_train), (x_test, y_test) = load_data(path='mnist.npz')  # mnist 데이터 로드"
      ],
      "metadata": {
        "colab": {
          "base_uri": "https://localhost:8080/"
        },
        "id": "I_R7hWuU0Aur",
        "outputId": "712786f7-0ce5-4f5c-baec-68c29e4841fb"
      },
      "execution_count": 1,
      "outputs": [
        {
          "output_type": "stream",
          "name": "stdout",
          "text": [
            "Downloading data from https://storage.googleapis.com/tensorflow/tf-keras-datasets/mnist.npz\n",
            "11493376/11490434 [==============================] - 0s 0us/step\n",
            "11501568/11490434 [==============================] - 0s 0us/step\n"
          ]
        }
      ]
    },
    {
      "cell_type": "code",
      "source": [
        "# 2. 정규화 진행 \n",
        "\n",
        "# 3차원 ---> 2차원으로 차원축소하고서 정규화 진행  ( 한 픽셀이 0~255 로 되어있는데)\n",
        "# 0 ~ 1 사이로 변경 \n",
        "x_train = (x_train.reshape((60000, 28 * 28))) / 255 \n",
        "x_test = (x_test.reshape((10000, 28 * 28))) / 255\n",
        "\n",
        "# 3. 정답 데이터를 준비한다. \n",
        "\n",
        "# 하나의 숫자를 one hot encoding 한다. (예:  4 ---> 0 0 0 0 1 0 0 0 0 0 ) \n",
        "y_train = to_categorical(y_train)  # 훈련 데이터의 라벨(정답)을 원핫 인코딩\n",
        "y_test = to_categorical(y_test)    # 테스트 데이터의 라벨(정답)을 원핫 인코딩 "
      ],
      "metadata": {
        "id": "lWWz28B70Awv"
      },
      "execution_count": 2,
      "outputs": []
    },
    {
      "cell_type": "code",
      "source": [
        "# 4. 모델을 구성합니다. 3층 신경망으로 구성\n",
        "\n",
        "model = Sequential()\n",
        "model.add(Flatten(input_shape = (784,)))\n",
        "model.add(Dense(100, activation = 'relu'))  # 2층 \n",
        "model.add(Dense(10, activation = 'softmax'))  # 3층 출력층 "
      ],
      "metadata": {
        "id": "sbyEcezj0AzE"
      },
      "execution_count": 3,
      "outputs": []
    },
    {
      "cell_type": "code",
      "source": [
        "# 5. 모델을 설정합니다. ( 경사하강법, 오차함수를 정의해줍니다. )\n",
        "\n",
        "model.compile(optimizer='adam', \n",
        "              loss = 'categorical_crossentropy', \n",
        "              metrics=['acc'])  # 학습과정에서 정확도를 보려고 "
      ],
      "metadata": {
        "id": "FYfsg97I0KCz"
      },
      "execution_count": 4,
      "outputs": []
    },
    {
      "cell_type": "code",
      "source": [
        "#6. 모델을 훈련 시킵니다.\n",
        "K.set_value(model.optimizer.learning_rate, 0.01)         # 러닝레이트를 0.01 로 지정하겠다.\n",
        "print(\"Learning rate before second fit:\", model.optimizer.learning_rate.numpy())\n",
        "\n",
        "history=model.fit( x_train, y_train, epochs=30, batch_size=100)"
      ],
      "metadata": {
        "id": "jvwmIG_30KFA"
      },
      "execution_count": null,
      "outputs": []
    },
    {
      "cell_type": "code",
      "source": [
        "# 7.모델을 평가합니다. (오차, 정확도가 출력됩니다.)\n",
        "\n",
        "model.evaluate(x_test, y_test)\n"
      ],
      "metadata": {
        "colab": {
          "base_uri": "https://localhost:8080/"
        },
        "id": "ejevskef0KHW",
        "outputId": "01862463-e474-46fa-95a3-dde267da8cea"
      },
      "execution_count": 6,
      "outputs": [
        {
          "output_type": "stream",
          "name": "stdout",
          "text": [
            "313/313 [==============================] - 1s 1ms/step - loss: 0.4046 - acc: 0.9707\n"
          ]
        },
        {
          "output_type": "execute_result",
          "data": {
            "text/plain": [
              "[0.4046446681022644, 0.9707000255584717]"
            ]
          },
          "metadata": {},
          "execution_count": 6
        }
      ]
    },
    {
      "cell_type": "code",
      "source": [
        "# 8.테스트 데이터의 예측값을 출력합니다. \n",
        "\n",
        "results = model.predict(x_test)\n"
      ],
      "metadata": {
        "id": "_U4hbv0S0KJ5"
      },
      "execution_count": 7,
      "outputs": []
    },
    {
      "cell_type": "code",
      "source": [
        "#9. 정확도를 확인합니다.\n",
        "import numpy as np\n",
        "y_hat = np.argmax(results, axis=1)\n",
        "y_label = np.argmax(y_test,axis=1)\n",
        "print ( np.sum( y_hat == y_label ) / len(y_test) )"
      ],
      "metadata": {
        "colab": {
          "base_uri": "https://localhost:8080/"
        },
        "id": "qaaLn3Jm0KL8",
        "outputId": "c7c721eb-95b8-4147-86c0-2e42e5c15f8d"
      },
      "execution_count": 8,
      "outputs": [
        {
          "output_type": "stream",
          "name": "stdout",
          "text": [
            "0.9707\n"
          ]
        }
      ]
    },
    {
      "cell_type": "code",
      "source": [
        "# 시각화\n",
        "import matplotlib.pyplot as plt\n",
        "\n",
        "his_dict = history.history\n",
        "loss = his_dict['loss']\n",
        "\n",
        "epochs = range(1, len(loss) + 1)\n",
        "fig = plt.figure(figsize = (10, 5))\n",
        "\n",
        "# 훈련 및 검증 손실 그리기\n",
        "ax1 = fig.add_subplot(1, 2, 1)\n",
        "ax1.plot(epochs, loss, color = 'blue', label = 'train_loss')\n",
        "ax1.set_title('train  loss')\n",
        "ax1.set_xlabel('epochs')\n",
        "ax1.set_ylabel('loss')\n",
        "ax1.legend()\n",
        "\n",
        "acc = his_dict['acc']\n",
        "\n",
        "# 훈련 및 검증 정확도 그리기\n",
        "ax2 = fig.add_subplot(1, 2, 2)\n",
        "ax2.plot(epochs, acc, color = 'blue', label = 'train_acc')\n",
        "ax2.set_title('train acc')\n",
        "ax2.set_xlabel('epochs')\n",
        "ax2.set_ylabel('acc')\n",
        "ax2.legend()\n",
        "\n",
        "plt.show()"
      ],
      "metadata": {
        "colab": {
          "base_uri": "https://localhost:8080/",
          "height": 350
        },
        "id": "AQJYStUi0KPY",
        "outputId": "3ee762a9-071d-43d4-c7d6-c30cdee6a71e"
      },
      "execution_count": 9,
      "outputs": [
        {
          "output_type": "display_data",
          "data": {
            "image/png": "[encoded data removed]",
            "text/plain": [
              "<Figure size 720x360 with 2 Axes>"
            ]
          },
          "metadata": {
            "needs_background": "light"
          }
        }
      ]
    },
    {
      "cell_type": "code",
      "source": [
        "# 러닝레이트를 0.5 로 하고 수행하시오\n",
        "\n",
        "#6. 모델을 훈련 시킵니다.\n",
        "K.set_value(model.optimizer.learning_rate, 0.5)         # 러닝레이트를 0.5 로 지정하겠다.\n",
        "\n",
        "history=model.fit( x_train, y_train, epochs=30, batch_size=100)"
      ],
      "metadata": {
        "id": "UzyuVknL0Xzl"
      },
      "execution_count": null,
      "outputs": []
    },
    {
      "cell_type": "code",
      "source": [
        "# 7.모델을 평가합니다. (오차, 정확도가 출력됩니다.)\n",
        "\n",
        "model.evaluate(x_test, y_test)\n",
        "\n",
        "# 8.테스트 데이터의 예측값을 출력합니다. \n",
        "\n",
        "results = model.predict(x_test)\n",
        "\n",
        "#9. 정확도를 확인합니다.\n",
        "\n",
        "import numpy as np\n",
        "y_hat = np.argmax(results, axis=1)\n",
        "y_label = np.argmax(y_test,axis=1)\n",
        "print ( np.sum( y_hat == y_label ) / len(y_test) )"
      ],
      "metadata": {
        "colab": {
          "base_uri": "https://localhost:8080/"
        },
        "id": "5ii61sFG0X2N",
        "outputId": "1ed87ec9-c56c-4703-9da7-7956582f8967"
      },
      "execution_count": 11,
      "outputs": [
        {
          "output_type": "stream",
          "name": "stdout",
          "text": [
            "313/313 [==============================] - 0s 1ms/step - loss: 2.3397 - acc: 0.0982\n",
            "0.0982\n"
          ]
        }
      ]
    },
    {
      "cell_type": "code",
      "source": [
        "# 시각화\n",
        "import matplotlib.pyplot as plt\n",
        "\n",
        "his_dict = history.history\n",
        "loss = his_dict['loss']\n",
        "\n",
        "epochs = range(1, len(loss) + 1)\n",
        "fig = plt.figure(figsize = (10, 5))\n",
        "\n",
        "# 훈련 및 검증 손실 그리기\n",
        "ax1 = fig.add_subplot(1, 2, 1)\n",
        "ax1.plot(epochs, loss, color = 'blue', label = 'train_loss')\n",
        "ax1.set_title('train  loss')\n",
        "ax1.set_xlabel('epochs')\n",
        "ax1.set_ylabel('loss')\n",
        "ax1.legend()\n",
        "\n",
        "acc = his_dict['acc']\n",
        "\n",
        "# 훈련 및 검증 정확도 그리기\n",
        "ax2 = fig.add_subplot(1, 2, 2)\n",
        "ax2.plot(epochs, acc, color = 'blue', label = 'train_acc')\n",
        "ax2.set_title('train acc')\n",
        "ax2.set_xlabel('epochs')\n",
        "ax2.set_ylabel('acc')\n",
        "ax2.legend()\n",
        "\n",
        "plt.show()"
      ],
      "metadata": {
        "colab": {
          "base_uri": "https://localhost:8080/",
          "height": 350
        },
        "id": "w3l3uxU80X4S",
        "outputId": "e4429e91-1aa6-4893-da5f-cb8091af4ae2"
      },
      "execution_count": 12,
      "outputs": [
        {
          "output_type": "display_data",
          "data": {
            "image/png": "[encoded data removed]",
            "text/plain": [
              "<Figure size 720x360 with 2 Axes>"
            ]
          },
          "metadata": {
            "needs_background": "light"
          }
        }
      ]
    },
    {
      "cell_type": "code",
      "source": [
        "# ※ 설명 : 0.5 로 러닝 레이트를 주었더니 수렴하지 못하고 발산하였습니다.\n",
        "# 적절한 러닝 레이터값을 지정해줘야 합니다."
      ],
      "metadata": {
        "id": "3gUKgdP-0X6x"
      },
      "execution_count": null,
      "outputs": []
    },
    {
      "cell_type": "code",
      "source": [
        "# ▩ 경사하강법\n",
        "\n",
        "# 오차가 최소화 되는 지점을 찾아가기 위해 아래로 내려오는 방법들\n",
        "\n",
        "# 1. SGD ( Stochastric Gradient Descent ) : 확률적 경사 감소법\n",
        "# \tGD ( Gradient Descent )는 학습 데이터를 다 입력하고 한 걸음 이동하는 경사감소법입니다.\n",
        "# \t그래서 GD 는 학습하는데 시간이 많이 걸립니다. 그래서 나온게 확률적 경사감소법인데\n",
        "# 미니배치 + GD 로 데이터를 배치단위로 추출해서 학습하면서 경사하강하는 경사하강법\n",
        "\n",
        "# \tSGD 는 아래로 내려올때 심하게 지그제그로 내려옵니다. 배치의 크기가 크면 지그제그의 정도가\n",
        "# \t덜하는데 배치의 크기가 작으면 술취한 사람처럼 지그제그로 내려옵니다.\n",
        "\t\n",
        "# SGD 의 문제점 ? Local minimum 에 잘 빠집니다."
      ],
      "metadata": {
        "id": "iHXOnTzc0X-V"
      },
      "execution_count": null,
      "outputs": []
    },
    {
      "cell_type": "code",
      "source": [
        "# 2. momentum : 관성을 이용해서 localminimum 을 빠져나가게 설계된 경사하강법입니다.\n",
        "# \t\t\t텐써플로우 2.0에는 모멘텀이 따로없지만 Adam 에 모멘텀의 장점이 포함되어져\n",
        "#       있습니다."
      ],
      "metadata": {
        "id": "THlDvMUW0A1E"
      },
      "execution_count": null,
      "outputs": []
    },
    {
      "cell_type": "code",
      "source": [
        "\t# 3. Adagrade : 학습률(learning rate) 을 자동조절되게 하는 경사하강법입니다.\n",
        "\t# \t    산위에 있을때는 발검을을 크게해서 내려오고 목적지에 도달했을 때는 \n",
        "  #       총총 발걸음으로 내려오는게 Adagrade 입니다."
      ],
      "metadata": {
        "id": "3JNbbcwr2hys"
      },
      "execution_count": null,
      "outputs": []
    },
    {
      "cell_type": "code",
      "source": [
        "\t# 4. Adam : momentum의 장점 + Adagrade 의 장점을 살린 경사하강법\n",
        "\t#           \t\t\t↓                              ↓\n",
        "#                관성을 이용                 러닝레이트가 자동조절"
      ],
      "metadata": {
        "id": "gYv0Frfy2h1I"
      },
      "execution_count": null,
      "outputs": []
    },
    {
      "cell_type": "code",
      "source": [
        "# 5. RmSprop : Adagrade 의 장점을 더 좋게 만든 경사하강법입니다.\n",
        "#\t\t\t   발걸음이 자동조절되는데 목표지점에 도달할때 이전에 내려오던\n",
        "#        그 걸음걸이를 살펴서 발걸음(러닝레이트)를 조절합니다."
      ],
      "metadata": {
        "id": "4o3ESLuj2h3f"
      },
      "execution_count": null,
      "outputs": []
    },
    {
      "cell_type": "code",
      "source": [
        "# 텐써 플로우 2.0 에서 경사하강법의 종류를 기술하는 코드 :\n",
        "\t\n",
        "# model.complie( optimizer = 'Adagrade',         <----------- Adam, SGD, RMSprop\n",
        "# \t\t\t\tloss = 'categorical_crossentropy',\n",
        "#         metrics = ['acc'] )"
      ],
      "metadata": {
        "id": "RTXiV2h-2h5o"
      },
      "execution_count": null,
      "outputs": []
    },
    {
      "cell_type": "code",
      "source": [
        ""
      ],
      "metadata": {
        "id": "b-zkAd6W2h9G"
      },
      "execution_count": null,
      "outputs": []
    }
  ]
}
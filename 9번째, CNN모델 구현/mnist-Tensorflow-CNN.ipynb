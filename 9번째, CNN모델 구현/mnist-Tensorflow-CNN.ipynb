{
  "nbformat": 4,
  "nbformat_minor": 0,
  "metadata": {
    "colab": {
      "name": "Untitled54.ipynb",
      "provenance": []
    },
    "kernelspec": {
      "name": "python3",
      "display_name": "Python 3"
    },
    "language_info": {
      "name": "python"
    }
  },
  "cells": [
    {
      "cell_type": "markdown",
      "source": [
        "# Tensorflow로 CNN 모델 구성하기\n",
        "\n",
        "### 활성화 함수 : adam\n",
        "### 배치정규화, 드롭아웃( 0.3 ), earlystopping 적용"
      ],
      "metadata": {
        "id": "o3fbaR-JHoaP"
      }
    },
    {
      "cell_type": "code",
      "source": [
        "# 1. 필요한 패키지 가져오는 코드 \n",
        "\n",
        "import tensorflow as tf   # 텐써 플로우 2.0 \n",
        "from tensorflow.keras.datasets.mnist import load_data  # 텐써플로우에 내장되어있는 \n",
        "                                                                         # mnist 데이터를 가져온다.\n",
        "from tensorflow.keras.models import Sequential  # 모델을 구성하기 위한 모듈\n",
        "from tensorflow.keras.layers import Dense, Conv2D, MaxPooling2D, Flatten, BatchNormalization, Dropout  # 완전 연결계층을 구성하기 위한 모듈\n",
        "from tensorflow.keras.utils import to_categorical # one encoding 하는 모듈\n",
        "import  numpy as  np\n",
        "\n",
        "tf.random.set_seed(777)\n",
        "\n",
        "(x_train, y_train), (x_test, y_test) = load_data(path='mnist.npz')  # mnist 데이터 로드\n",
        "print(x_train.shape) # (60000, 28, 28)  \n",
        "print(x_test.shape) # (10000, 28, 28)    \n",
        "\n"
      ],
      "metadata": {
        "colab": {
          "base_uri": "https://localhost:8080/"
        },
        "id": "dz8F1Z8kF_Iv",
        "outputId": "82e26f14-7f20-45be-c3e0-62ca65834193"
      },
      "execution_count": 1,
      "outputs": [
        {
          "output_type": "stream",
          "name": "stdout",
          "text": [
            "Downloading data from https://storage.googleapis.com/tensorflow/tf-keras-datasets/mnist.npz\n",
            "11493376/11490434 [==============================] - 0s 0us/step\n",
            "11501568/11490434 [==============================] - 0s 0us/step\n",
            "(60000, 28, 28)\n",
            "(10000, 28, 28)\n"
          ]
        }
      ]
    },
    {
      "cell_type": "code",
      "source": [
        "\n",
        "#2. 색조까지 포함한 4차원 shape 로 reshape 해야합니다.\n",
        "\n",
        "# 3차원(60000x28x28) ----> 4차원( ? x 28 x 28 x 1 ) 을 변경하는데 안의 요소(픽셀)의 갯수는 동일해야합니다.\n",
        "x_train = x_train.reshape(-1, 28, 28, 1)\n",
        "print(x_train.shape)  # (60000, 28, 28, 1)\n",
        "x_test = x_test.reshape(-1, 28, 28, 1)\n",
        "print(x_test.shape) # (10000, 28, 28, 1)\n",
        "\n",
        "# 2. 정규화 진행  \n",
        "x_train = x_train / 255   # 0~1 사이의 데이터로 변경합니다. \n",
        "x_test = x_test / 255\n",
        "\n",
        "# 3. 정답 데이터를 준비한다. \n",
        "# 하나의 숫자를 one hot encoding 한다. (예:  4 ---> 0 0 0 0 1 0 0 0 0 0 ) \n",
        "y_train = to_categorical(y_train)  # 훈련 데이터의 라벨(정답)을 원핫 인코딩\n",
        "y_test = to_categorical(y_test)    # 테스트 데이터의 라벨(정답)을 원핫 인코딩 \n"
      ],
      "metadata": {
        "colab": {
          "base_uri": "https://localhost:8080/"
        },
        "id": "qZSciFo5F_Ll",
        "outputId": "57f09dbe-345d-4f60-976d-96899cbbddda"
      },
      "execution_count": 2,
      "outputs": [
        {
          "output_type": "stream",
          "name": "stdout",
          "text": [
            "(60000, 28, 28, 1)\n",
            "(10000, 28, 28, 1)\n"
          ]
        }
      ]
    },
    {
      "cell_type": "code",
      "source": [
        "\n",
        "# 4. 모델을 구성합니다. 3층 신경망으로 구성\n",
        "model = Sequential()\n",
        "model.add(Conv2D(100, kernel_size=(5,5), input_shape=(28,28,1),  activation='relu', padding = 'same')  ) \n",
        "model.add( BatchNormalization() )\n",
        "model.add(MaxPooling2D(pool_size=(2,2), padding='same') ) # 이미지를 선명하게 해주는 층\n",
        "model.add( Flatten() )  # 완전연결계층에 들어갈 수 있도록 이미지(피쳐맵)를 1차원으로 변경 \n",
        "model.add(Dense(50, activation = 'sigmoid', input_shape = (784, )))  # 1층 완전연결계층\n",
        "model.add( BatchNormalization() )\n",
        "model.add( Dropout(0.3) )\n",
        "model.add(Dense(50, activation = 'sigmoid') ) # 2층 은닉층 \n",
        "model.add( BatchNormalization() )\n",
        "model.add( Dropout(0.3) )\n",
        "model.add(Dense(10, activation = 'softmax'))  # 3층 출력층 \n",
        "\n",
        "# 5. 모델을 설정합니다. ( 경사하강법, 오차함수를 정의해줍니다. )\n",
        "model.compile(optimizer='adam', \n",
        "                     loss = 'categorical_crossentropy', \n",
        "                     metrics=['acc'])  # 학습과정에서 정확도를 보려고 \n",
        "\n",
        "model.summary()"
      ],
      "metadata": {
        "colab": {
          "base_uri": "https://localhost:8080/"
        },
        "id": "lemDCy_8GDY3",
        "outputId": "f4b2bbc6-2d1d-4357-bb05-2b5dd85a4476"
      },
      "execution_count": 3,
      "outputs": [
        {
          "output_type": "stream",
          "name": "stdout",
          "text": [
            "Model: \"sequential\"\n",
            "_________________________________________________________________\n",
            " Layer (type)                Output Shape              Param #   \n",
            "=================================================================\n",
            " conv2d (Conv2D)             (None, 28, 28, 100)       2600      \n",
            "                                                                 \n",
            " batch_normalization (BatchN  (None, 28, 28, 100)      400       \n",
            " ormalization)                                                   \n",
            "                                                                 \n",
            " max_pooling2d (MaxPooling2D  (None, 14, 14, 100)      0         \n",
            " )                                                               \n",
            "                                                                 \n",
            " flatten (Flatten)           (None, 19600)             0         \n",
            "                                                                 \n",
            " dense (Dense)               (None, 50)                980050    \n",
            "                                                                 \n",
            " batch_normalization_1 (Batc  (None, 50)               200       \n",
            " hNormalization)                                                 \n",
            "                                                                 \n",
            " dropout (Dropout)           (None, 50)                0         \n",
            "                                                                 \n",
            " dense_1 (Dense)             (None, 50)                2550      \n",
            "                                                                 \n",
            " batch_normalization_2 (Batc  (None, 50)               200       \n",
            " hNormalization)                                                 \n",
            "                                                                 \n",
            " dropout_1 (Dropout)         (None, 50)                0         \n",
            "                                                                 \n",
            " dense_2 (Dense)             (None, 10)                510       \n",
            "                                                                 \n",
            "=================================================================\n",
            "Total params: 986,510\n",
            "Trainable params: 986,110\n",
            "Non-trainable params: 400\n",
            "_________________________________________________________________\n"
          ]
        }
      ]
    },
    {
      "cell_type": "code",
      "source": [
        "\n",
        "#6. 모델을 훈련시킵니다. \n",
        "\n",
        "from tensorflow.keras.callbacks import EarlyStopping\n",
        "\n",
        "callbacks = [ EarlyStopping( monitor = 'val_acc', patience = 5 , verbose = 1 ) ]\n",
        "\n",
        "history = model.fit(x_train, y_train, \n",
        "                         epochs = 30,  # 30에폭\n",
        "                         batch_size = 100,\n",
        "                         validation_data=(x_test, y_test),\n",
        "                         callbacks = callbacks )\n",
        "\n"
      ],
      "metadata": {
        "colab": {
          "base_uri": "https://localhost:8080/"
        },
        "id": "mZCHhm4iGDbd",
        "outputId": "f8c5e822-3c75-4bea-de2f-d20903c2cb49"
      },
      "execution_count": 4,
      "outputs": [
        {
          "output_type": "stream",
          "name": "stdout",
          "text": [
            "Epoch 1/30\n",
            "600/600 [==============================] - 146s 238ms/step - loss: 0.2094 - acc: 0.9412 - val_loss: 0.0700 - val_acc: 0.9774\n",
            "Epoch 2/30\n",
            "600/600 [==============================] - 139s 231ms/step - loss: 0.0786 - acc: 0.9781 - val_loss: 0.0554 - val_acc: 0.9822\n",
            "Epoch 3/30\n",
            "600/600 [==============================] - 140s 234ms/step - loss: 0.0585 - acc: 0.9828 - val_loss: 0.0520 - val_acc: 0.9853\n",
            "Epoch 4/30\n",
            "600/600 [==============================] - 140s 234ms/step - loss: 0.0488 - acc: 0.9853 - val_loss: 0.0558 - val_acc: 0.9840\n",
            "Epoch 5/30\n",
            "600/600 [==============================] - 139s 232ms/step - loss: 0.0389 - acc: 0.9884 - val_loss: 0.0460 - val_acc: 0.9868\n",
            "Epoch 6/30\n",
            "600/600 [==============================] - 140s 233ms/step - loss: 0.0364 - acc: 0.9891 - val_loss: 0.0366 - val_acc: 0.9883\n",
            "Epoch 7/30\n",
            "600/600 [==============================] - 139s 232ms/step - loss: 0.0314 - acc: 0.9907 - val_loss: 0.0407 - val_acc: 0.9890\n",
            "Epoch 8/30\n",
            "600/600 [==============================] - 139s 232ms/step - loss: 0.0289 - acc: 0.9911 - val_loss: 0.0403 - val_acc: 0.9882\n",
            "Epoch 9/30\n",
            "600/600 [==============================] - 139s 232ms/step - loss: 0.0271 - acc: 0.9912 - val_loss: 0.0416 - val_acc: 0.9881\n",
            "Epoch 10/30\n",
            "600/600 [==============================] - 140s 233ms/step - loss: 0.0245 - acc: 0.9926 - val_loss: 0.0512 - val_acc: 0.9870\n",
            "Epoch 11/30\n",
            "600/600 [==============================] - 139s 232ms/step - loss: 0.0241 - acc: 0.9926 - val_loss: 0.0406 - val_acc: 0.9893\n",
            "Epoch 12/30\n",
            "600/600 [==============================] - 138s 229ms/step - loss: 0.0193 - acc: 0.9941 - val_loss: 0.0385 - val_acc: 0.9892\n",
            "Epoch 13/30\n",
            "600/600 [==============================] - 138s 230ms/step - loss: 0.0217 - acc: 0.9930 - val_loss: 0.0459 - val_acc: 0.9878\n",
            "Epoch 14/30\n",
            "600/600 [==============================] - 140s 233ms/step - loss: 0.0208 - acc: 0.9936 - val_loss: 0.0458 - val_acc: 0.9880\n",
            "Epoch 15/30\n",
            "600/600 [==============================] - 140s 233ms/step - loss: 0.0182 - acc: 0.9940 - val_loss: 0.0470 - val_acc: 0.9880\n",
            "Epoch 16/30\n",
            "600/600 [==============================] - 138s 230ms/step - loss: 0.0172 - acc: 0.9947 - val_loss: 0.0537 - val_acc: 0.9880\n",
            "Epoch 00016: early stopping\n"
          ]
        }
      ]
    },
    {
      "cell_type": "code",
      "source": [
        "# 7.모델을 평가합니다. (오차, 정확도가 출력됩니다.)\n",
        "model.evaluate(x_test, y_test)\n",
        "\n",
        "train_acc_list=history.history['acc']\n",
        "train_acc_list\n",
        "\n",
        "test_acc_list=history.history['val_acc']\n",
        "test_acc_list\n",
        "\n",
        "import  matplotlib.pyplot  as  plt\n",
        "\n",
        "x = np.arange( len(train_acc_list) )\n",
        "plt.plot( x, train_acc_list, label='train acc')\n",
        "plt.plot( x, test_acc_list, label='test acc',  linestyle='--')\n",
        "plt.ylim(0, 1)\n",
        "plt.legend(loc='lower right')\n",
        "plt.xlabel('epochs')\n",
        "plt.ylabel('accuracy')\n",
        "plt.show()"
      ],
      "metadata": {
        "id": "K8LzC6ESIYYe"
      },
      "execution_count": null,
      "outputs": []
    },
    {
      "cell_type": "code",
      "source": [
        ""
      ],
      "metadata": {
        "id": "Ute1Ey-sGDit"
      },
      "execution_count": null,
      "outputs": []
    },
    {
      "cell_type": "code",
      "source": [
        ""
      ],
      "metadata": {
        "id": "ZeMUHpJFGDlQ"
      },
      "execution_count": null,
      "outputs": []
    },
    {
      "cell_type": "code",
      "source": [
        ""
      ],
      "metadata": {
        "id": "c6so81CaF_OW"
      },
      "execution_count": null,
      "outputs": []
    }
  ]
}
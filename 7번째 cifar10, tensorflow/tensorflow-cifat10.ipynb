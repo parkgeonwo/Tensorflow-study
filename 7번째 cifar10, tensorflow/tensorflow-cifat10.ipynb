{
  "nbformat": 4,
  "nbformat_minor": 0,
  "metadata": {
    "colab": {
      "name": "Untitled48.ipynb",
      "provenance": []
    },
    "kernelspec": {
      "name": "python3",
      "display_name": "Python 3"
    },
    "language_info": {
      "name": "python"
    }
  },
  "cells": [
    {
      "cell_type": "code",
      "source": [
        "# ■ cifar10 데이터셋 소개\n",
        "\n",
        "# 10개의 클래스이고 훈련 데이터가 60000개이고 클래스당 6000개의 이미지가 있습니다.\n",
        "# 테스트 데이터는 10000개 입니다.\n",
        "\n",
        "# 데이터 셋\n",
        "\n",
        "#\t0. 비행기\n",
        "#\t1. 자동차\n",
        "#\t2. 새\n",
        "#\t3. 고양이\n",
        "#\t4. 사슴\n",
        "#\t5. 개\n",
        "#\t6. 개구리\n",
        "#\t7. 말\n",
        "#\t8. 배\n",
        "#\t9. 트럭\n",
        "\n",
        "# 데이터 전처리\n",
        "# cifar10 데이터를 텐써플로우에서 불러오시오 !\n",
        "\n",
        "from tensorflow.keras.datasets import cifar10\n",
        "import numpy as np\n",
        "\n",
        "(x_train, y_train), (x_test, y_test) = cifar10.load_data()\n",
        "\n",
        "print( x_train.shape )      # (50000, 32,32,3) / 컬러 사진 입니다.\n",
        "print( y_train.shape )       # (50000,1) \n",
        "print( x_test.shape )          # (10000, 32,32,3)\n",
        "print( y_test.shape )        # (10000,1)\n",
        "\n",
        "#  cifar10 훈련 이미지를 흑백으로 변경하시오 !\n",
        "\n",
        "import tensorflow as tf\n",
        "x_train_gray = tf.image.rgb_to_grayscale(x_train)\n",
        "print(x_train_gray.shape)   #  (50000, 32, 32, 1)\n",
        "\n",
        "# cifar10 테스트 이미지를 흑백으로 변경하시오 !\n",
        "\n",
        "import tensorflow as tf\n",
        "x_test_gray = tf.image.rgb_to_grayscale(x_test)\n",
        "print(x_test_gray.shape)      # (10000, 32, 32, 1)\n",
        "\n",
        "# 흑백으로 변경한 cifar10 훈련 이미지를 4차원에서 3차원으로 변경하시오 !\n",
        "\n",
        "x_train_gray_3dim = tf.reshape( x_train_gray, [50000, 32,32] )\n",
        "print( x_train_gray_3dim.shape )         # ( 50000, 32, 32)\n",
        "\n",
        "# 흑백으로 변경한 cifar10 테스트 이미지를 4차원에서 3차원으로 변경하시오 !\n",
        "\n",
        "x_test_gray_3dim = tf.reshape( x_test_gray, [10000, 32,32] )\n",
        "print( x_test_gray_3dim.shape )         # ( 10000, 32, 32)\n",
        "\n",
        "# 텐써의 자료구조로 되어져있는 x_train_gray_3dim 과 x_test_gray_3dim 을 numpy array로 변환하쇼\n",
        "\n",
        "x_train_gray_3dim = np.array( x_train_gray_3dim )\n",
        "x_test_gray_3dim = np.array( x_test_gray_3dim )\n"
      ],
      "metadata": {
        "colab": {
          "base_uri": "https://localhost:8080/"
        },
        "id": "9D6haTXRsPJr",
        "outputId": "ba9cf612-773e-40ba-c7fa-241b1763431f"
      },
      "execution_count": 1,
      "outputs": [
        {
          "output_type": "stream",
          "name": "stdout",
          "text": [
            "Downloading data from https://www.cs.toronto.edu/~kriz/cifar-10-python.tar.gz\n",
            "170500096/170498071 [==============================] - 6s 0us/step\n",
            "170508288/170498071 [==============================] - 6s 0us/step\n",
            "(50000, 32, 32, 3)\n",
            "(50000, 1)\n",
            "(10000, 32, 32, 3)\n",
            "(10000, 1)\n",
            "(50000, 32, 32, 1)\n",
            "(10000, 32, 32, 1)\n",
            "(50000, 32, 32)\n",
            "(10000, 32, 32)\n"
          ]
        }
      ]
    },
    {
      "cell_type": "code",
      "source": [
        "# 2.1  32x32 의 shape 를 1 x 32*32 로 변경합니다.\n",
        "\n",
        "x_train = x_train_gray_3dim.reshape(50000,32*32)      # 2차원으로 변경\n",
        "x_test  = x_test_gray_3dim.reshape(10000, 32*32)\n",
        "\n",
        "x_train = x_train/255.0\n",
        "x_test = x_test/255.0\n",
        "\n",
        "# 2.2 정답 데이터를 준비합니다. (p98 원핫인코딩을 해야합니다.)\n",
        " \n",
        "from  tensorflow.keras.utils import  to_categorical\n",
        "\n",
        "y_train = to_categorical(y_train)\n",
        "y_test = to_categorical(y_test)\n",
        "# print ( y_train.shape)\n",
        "\n",
        "\n"
      ],
      "metadata": {
        "id": "Eoh3l0YKsPMO"
      },
      "execution_count": 2,
      "outputs": []
    },
    {
      "cell_type": "code",
      "source": [
        "\n",
        "# 3. 모델을 구성합니다.\n",
        "\n",
        "from  tensorflow.keras.models  import  Sequential\n",
        "from  tensorflow.keras.layers    import  Dense\n",
        "\n",
        "model = Sequential()\n",
        "model.add(Dense(50, activation='sigmoid', input_shape=(32*32, ) ) ) # 은닉1층\n",
        "model.add(Dense(50, activation='sigmoid' ) ) # 은닉2층\n",
        "model.add(Dense( 10, activation='softmax') ) \n"
      ],
      "metadata": {
        "id": "813YxDD4sPOz"
      },
      "execution_count": 3,
      "outputs": []
    },
    {
      "cell_type": "code",
      "source": [
        "\n",
        "# 4. 모델을 설정합니다. (경사하강법과 오차함수를 정의해줍니다. 4장에서 배웁니다)\n",
        "\n",
        "model.compile(optimizer='adam',  # 경사하강법 \n",
        "                     loss='categorical_crossentropy',  #오차함수\n",
        "                     metrics=['acc'] )  # 학습과정에서 정확도를 보려고 지정\n"
      ],
      "metadata": {
        "id": "UoM1tA88sPRY"
      },
      "execution_count": 4,
      "outputs": []
    },
    {
      "cell_type": "code",
      "source": [
        "# 5. 모델을 훈련 시킵니다.\n",
        "\n",
        "model.fit( x_train, y_train, epochs=100, batch_size=100)        # 100epochs 로 변경 , GPU 키고 돌리자\n",
        "\n",
        "#model.fit( 훈련데이터, 정답, 에폭수, 배치사이즈) \n",
        "# 에폭수 :  학습횟수 (책을 몇번 볼건지)\n",
        "# 배치사이즈:  한번에 학습할 양 ( 사람은 책을 한번에 한페이지 밖에 못보지만 컴퓨터는 한번에\n",
        "#                  여러 페이지를 볼 수 있다)\n"
      ],
      "metadata": {
        "id": "W93hXNTisPU9"
      },
      "execution_count": null,
      "outputs": []
    },
    {
      "cell_type": "code",
      "source": [
        "# 6. 모델을 평가합니다. (시험을 봅니다.)\n",
        "\n",
        "model.evaluate(x_test, y_test) \n",
        "\n",
        "# [1.6870291233062744, 0.396699994802475]\n"
      ],
      "metadata": {
        "colab": {
          "base_uri": "https://localhost:8080/"
        },
        "id": "Af43hEwms7QB",
        "outputId": "8487648b-68b9-4cfe-aa2f-f92f398622ef"
      },
      "execution_count": 7,
      "outputs": [
        {
          "output_type": "stream",
          "name": "stdout",
          "text": [
            "313/313 [==============================] - 1s 3ms/step - loss: 1.6922 - acc: 0.4085\n"
          ]
        },
        {
          "output_type": "execute_result",
          "data": {
            "text/plain": [
              "[1.692224383354187, 0.40849998593330383]"
            ]
          },
          "metadata": {},
          "execution_count": 7
        }
      ]
    },
    {
      "cell_type": "code",
      "source": [
        ""
      ],
      "metadata": {
        "id": "aOlh_YgGs7SU"
      },
      "execution_count": null,
      "outputs": []
    },
    {
      "cell_type": "code",
      "source": [
        ""
      ],
      "metadata": {
        "id": "DcG74ONXs7VA"
      },
      "execution_count": null,
      "outputs": []
    },
    {
      "cell_type": "code",
      "source": [
        ""
      ],
      "metadata": {
        "id": "vOe7Eozrs7Ye"
      },
      "execution_count": null,
      "outputs": []
    }
  ]
}
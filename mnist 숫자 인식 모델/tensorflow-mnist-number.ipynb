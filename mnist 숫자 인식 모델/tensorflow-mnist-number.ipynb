{
  "nbformat": 4,
  "nbformat_minor": 0,
  "metadata": {
    "colab": {
      "name": "Untitled41.ipynb",
      "provenance": []
    },
    "kernelspec": {
      "name": "python3",
      "display_name": "Python 3"
    },
    "language_info": {
      "name": "python"
    }
  },
  "cells": [
    {
      "cell_type": "code",
      "execution_count": null,
      "metadata": {
        "id": "4nbDgCwnKVb3"
      },
      "outputs": [],
      "source": [
        "# ■ 손글씨 숫자를 인식하는 신경망 만들기"
      ]
    },
    {
      "cell_type": "code",
      "source": [
        "# 데이터 설명 : mnist 데이터는 0~9 까지의 숫자 이미지로 구성되어있고\n",
        "# \t\t\t       훈련 데이터가 6만장, 테스트 데이터가 1만장으로 구성되어 있습니다.\n",
        "#              28x28 크기의 회색조 이미지(1채널) 이며 각 픽셀은 0 ~ 255 까지의 값을 취합니다."
      ],
      "metadata": {
        "id": "-8q70YLLKY6t"
      },
      "execution_count": null,
      "outputs": []
    },
    {
      "cell_type": "code",
      "source": [
        "# 1. mnist 데이터를 불러옵니다.\n",
        "import tensorflow as tf\n",
        "from tensorflow.keras.datasets.mnist import load_data\n",
        "\n",
        "(x_train, y_train), (x_test, y_test) = load_data(path = 'mnist.npz')\n",
        "# 훈련                       # 테스트\n",
        "# 데이터 , 정답      # 데이터 , 정답\n",
        "\n",
        "print(x_train.shape)        # (60000,28,28)      (데이터 갯수, 가로 픽셀수, 세로 픽셀수)\n",
        "print(y_train.shape)       # (60000)\n",
        "print(x_test.shape)         # (10000,28,28)\n",
        "print(y_test.shape)          # (10000)\n"
      ],
      "metadata": {
        "colab": {
          "base_uri": "https://localhost:8080/"
        },
        "id": "wMt5a__wKY87",
        "outputId": "952e5b0f-28bb-46fe-97a1-7c8557fa896e"
      },
      "execution_count": 1,
      "outputs": [
        {
          "output_type": "stream",
          "name": "stdout",
          "text": [
            "Downloading data from https://storage.googleapis.com/tensorflow/tf-keras-datasets/mnist.npz\n",
            "11493376/11490434 [==============================] - 0s 0us/step\n",
            "11501568/11490434 [==============================] - 0s 0us/step\n",
            "(60000, 28, 28)\n",
            "(60000,)\n",
            "(10000, 28, 28)\n",
            "(10000,)\n"
          ]
        }
      ]
    },
    {
      "cell_type": "code",
      "source": [
        "# 2.1 minmax 정규화를 실시합니다.\n",
        "\n",
        "x_train = x_train/255.0\n",
        "x_test = x_test/255.0"
      ],
      "metadata": {
        "id": "M1yCfDrzMS2K"
      },
      "execution_count": 2,
      "outputs": []
    },
    {
      "cell_type": "code",
      "source": [
        "# 2.2 28x28 의 shape 를 1 x 784 로 변경합니다.\n",
        "\n",
        "x_train = x_train.reshape(60000, 28*28)\n",
        "x_test = x_test.reshape(10000, 28*28)\n"
      ],
      "metadata": {
        "id": "TziI6xwPKY_T"
      },
      "execution_count": 3,
      "outputs": []
    },
    {
      "cell_type": "code",
      "source": [
        "# 2.3 정답 데이터를 준비합니다. \n",
        "\n",
        "\"\"\"\n",
        "원핫인코딩이란 ( onehot encoding ) ?\n",
        "\n",
        "숫자 7을 다음과 같이 [ 0, 0, 0, 0, 0, 0, 0, 1, 0, 0 ] 만드는 것을 뜻합니다.\n",
        "즉 리스트의 7번째 인덱스만 1이고 나머지는 0으로 구성하는것을 말합니다.\n",
        "\n",
        "from tensorflow.keras.utils import to_categorical\n",
        "\n",
        "print(to_categorical(7 , num_classes = 10))         # [0. 0. 0. 0. 0. 0. 0. 1. 0. 0.]\n",
        "\n",
        "print( to_categorical( [7, 4, 3, 1, 9], num_classes = 10 ) )\n",
        "\n",
        "[[0. 0. 0. 0. 0. 0. 0. 1. 0. 0.]\n",
        " [0. 0. 0. 0. 1. 0. 0. 0. 0. 0.]\n",
        " [0. 0. 0. 1. 0. 0. 0. 0. 0. 0.]\n",
        " [0. 1. 0. 0. 0. 0. 0. 0. 0. 0.]\n",
        " [0. 0. 0. 0. 0. 0. 0. 0. 0. 1.]]\n",
        "\"\"\"\n",
        "\n",
        "from tensorflow.keras.utils import to_categorical\n",
        "\n",
        "y_train = to_categorical(y_train)\n",
        "y_test = to_categorical(y_test)\n",
        "print( y_train.shape )       # (60000,10)\n"
      ],
      "metadata": {
        "colab": {
          "base_uri": "https://localhost:8080/"
        },
        "id": "2435h8wLLwY4",
        "outputId": "28f2e5ae-224c-4c9f-9493-1c6b53eafe01"
      },
      "execution_count": 4,
      "outputs": [
        {
          "output_type": "stream",
          "name": "stdout",
          "text": [
            "(60000, 10)\n"
          ]
        }
      ]
    },
    {
      "cell_type": "code",
      "source": [
        "# 3. 모델을 구성합니다.\n",
        "\n",
        "# 그림 : https://cafe.daum.net/oracleoracle/Shyl/182\n",
        "\n",
        "from tensorflow.keras.models import Sequential\n",
        "from tensorflow.keras.layers import Dense\n",
        "\n",
        "model = Sequential()\n",
        "model.add( Dense( 128, activation = 'sigmoid', input_shape = (784, ) ) )     # 은닉 1층\n",
        "model.add( Dense( 10, activation = 'softmax' ) )    \n"
      ],
      "metadata": {
        "id": "sPNEFHADLwb2"
      },
      "execution_count": 5,
      "outputs": []
    },
    {
      "cell_type": "code",
      "source": [
        "# 4. 모델을 설정합니다. ( 경사하강법과 오차함수를 정의해줍니다. 4장에서 배움 )\n",
        "\n",
        "model.compile( optimizer = 'adam',      # 경사하강법\n",
        "\t\t\tloss = 'categorical_crossentropy',      # 오차함수\n",
        "\t\t\tmetrics = ['acc'] )     # 학습과정에서 정확도를 보려고 지정\n",
        "\n"
      ],
      "metadata": {
        "id": "fLwLy2rkLweu"
      },
      "execution_count": 6,
      "outputs": []
    },
    {
      "cell_type": "code",
      "source": [
        "# 5. 모델을 훈련 시킵니다.\n",
        "\n",
        "# model.fit( 훈련데이터, 정답, 에폭수, 배치사이즈 )\n",
        "# 에폭수 : 학습횟수 (책을 몇번 볼건지)\n",
        "# 배치사이즈 : 한번에 학습할 양 (사람을 책을 한번에 한페이지 밖에 못보지만 컴퓨터는 여러 페이지 봄)\n",
        "\n",
        "# model.fit( x_train, y_train, epochs = 30, batch_size = 100 )\n",
        "history = model.fit( x_train, y_train, epochs = 30, batch_size = 100 )\n",
        "# 모델이 훈련하는 과정을 history 변수에 담습니다.\n",
        "# model.fit 의 history를 남겨야한다. / model.fit 대신 위의 코드 입력\n"
      ],
      "metadata": {
        "id": "ky8bgO2jL-kw"
      },
      "execution_count": null,
      "outputs": []
    },
    {
      "cell_type": "code",
      "source": [
        "# 6. 모델을 평가합니다.( 시험을 봅니다. )\n",
        "\n",
        "model.evaluate( x_test, y_test )      \n",
        "\n"
      ],
      "metadata": {
        "colab": {
          "base_uri": "https://localhost:8080/"
        },
        "id": "R_I_b6r2L-nL",
        "outputId": "7d14c9f9-4ad9-4142-fffe-59ea0db8e2c5"
      },
      "execution_count": 8,
      "outputs": [
        {
          "output_type": "stream",
          "name": "stdout",
          "text": [
            "313/313 [==============================] - 1s 1ms/step - loss: 0.0741 - acc: 0.9786\n"
          ]
        },
        {
          "output_type": "execute_result",
          "data": {
            "text/plain": [
              "[0.07407256960868835, 0.978600025177002]"
            ]
          },
          "metadata": {},
          "execution_count": 8
        }
      ]
    },
    {
      "cell_type": "code",
      "source": [
        "# 시각화\n",
        "import matplotlib.pyplot as plt\n",
        "\n",
        "his_dict = history.history              # 모델 훈련과정에서 쌓은 오차와 정확도 데이터를 불러온다\n",
        "loss = his_dict['loss']                        # 훈련과정에서 기록한 30개의 오차를 loss 변수에 담습니다.\n",
        "\n",
        "epochs = range(1, len(loss) + 1)     # 1부터 30까지의 숫자를 epochs에 담는다. , 그래프의 x 축\n",
        "fig = plt.figure(figsize = (10, 5))     # 그래프 전체 사이즈 설정\n",
        "\n",
        "# 훈련 및 검증 손실 그리기\n",
        "ax1 = fig.add_subplot(1, 2, 1)     # 하나의 화면에 2개의 그래프 중 첫번째 그래프 그리는데 첫번째 그래프\n",
        "ax1.plot(epochs, loss, color = 'blue', label = 'train_loss')  # x 축 에폭수, y 축 loss 로 라인 그래프 그림\n",
        "ax1.set_title('train  loss')     # 그래프 제목\n",
        "ax1.set_xlabel('epochs')       # 그래프의 x 축 제목\n",
        "ax1.set_ylabel('loss')         # 그래프의 y 축 제목\n",
        "ax1.legend()           \n",
        "\n",
        "acc = his_dict['acc']       # 30개의 정확도 데이터를 acc 변수에 담습니다.\n",
        "\n",
        "# 훈련 및 검증 정확도 그리기\n",
        "ax2 = fig.add_subplot(1, 2, 2)\n",
        "ax2.plot(epochs, acc, color = 'blue', label = 'train_acc')\n",
        "ax2.set_title('train and val acc')\n",
        "ax2.set_xlabel('epochs')\n",
        "ax2.set_ylabel('acc')\n",
        "ax2.legend()\n"
      ],
      "metadata": {
        "colab": {
          "base_uri": "https://localhost:8080/",
          "height": 368
        },
        "id": "936Cg027L-ph",
        "outputId": "2416e655-025e-43bb-ccbc-d76745466f5f"
      },
      "execution_count": 9,
      "outputs": [
        {
          "output_type": "execute_result",
          "data": {
            "text/plain": [
              "<matplotlib.legend.Legend at 0x7efd7a32a090>"
            ]
          },
          "metadata": {},
          "execution_count": 9
        },
        {
          "output_type": "display_data",
          "data": {
            "image/png": "[encoded data removed]",
            "text/plain": [
              "<Figure size 720x360 with 2 Axes>"
            ]
          },
          "metadata": {
            "needs_background": "light"
          }
        }
      ]
    },
    {
      "cell_type": "code",
      "source": [
        "# 7. 모델의 테스트 데이터 10000장을 입력하고 예측합니다.\n",
        "\n",
        "result = model.predict(x_test)\n",
        "print(result.shape)        # 10000, 10\n"
      ],
      "metadata": {
        "colab": {
          "base_uri": "https://localhost:8080/"
        },
        "id": "lOLSzcsHL-rq",
        "outputId": "65794e2a-038c-42e5-fb2f-affe4121605e"
      },
      "execution_count": 10,
      "outputs": [
        {
          "output_type": "stream",
          "name": "stdout",
          "text": [
            "(10000, 10)\n"
          ]
        }
      ]
    },
    {
      "cell_type": "code",
      "source": [
        "# 위에서 출력된 확률벡터 10000개에서 가장 큰 원소의 인덱스 번호가 출력되게 하여 10000개의 숫자로 출력\n",
        "\t\t\n",
        "import numpy as np\n",
        "\n",
        "print( np.argmax(result, axis = 1).shape )         # (10000,) , axis = 1 은 가로로 최대값 찾는거\n"
      ],
      "metadata": {
        "colab": {
          "base_uri": "https://localhost:8080/"
        },
        "id": "CDipWrBWN1Mo",
        "outputId": "0d9e9c09-cb3c-47c5-bc8d-5c91896e4936"
      },
      "execution_count": 11,
      "outputs": [
        {
          "output_type": "stream",
          "name": "stdout",
          "text": [
            "(10000,)\n"
          ]
        }
      ]
    },
    {
      "cell_type": "code",
      "source": [
        "# 진짜 정답인 y_test 와 위에 예측값과 비교해서 정확도를 출력\n",
        "\n",
        "result2 =  np.argmax(result, axis = 1)\n",
        "y_test2 = np.argmax( y_test, axis = 1 )\n",
        "print( sum( result2 == y_test2  )/ 10000 )       # model.evaluate 했을 때와 값이 같다."
      ],
      "metadata": {
        "colab": {
          "base_uri": "https://localhost:8080/"
        },
        "id": "8UCO4QoAN1R-",
        "outputId": "3ccb8776-8e11-4ad6-f7c5-738da8f16792"
      },
      "execution_count": 12,
      "outputs": [
        {
          "output_type": "stream",
          "name": "stdout",
          "text": [
            "0.9786\n"
          ]
        }
      ]
    },
    {
      "cell_type": "code",
      "source": [
        "# 테스트 데이터 10000장 중에 첫번째 테스트 데이터 1개를 신경망에 입력하고 예측 숫자를 출력하시오 !\n",
        "\n",
        "# 숫자하나만 예측\n",
        "result = model.predict(x_test[0])\n",
        "result2 =  np.argmax(result, axis = 1)\n",
        "print(result2)\n",
        "\n",
        "# 위의 숫자의 정답을 확인\n",
        "y_test2 = np.argmax( y_test[0], axis = 1 )\n",
        "print(y_test2)\n",
        "\n",
        "# 에러남 , why ???\n",
        "\n",
        "# print( x_test.shape )        # (10000, 784)\n",
        "# print( x_test[0].shape )      # (784,)   --------> ( 1,784 ) 이렇게 변경해야 합니다."
      ],
      "metadata": {
        "id": "IJvK6iC0L-tp"
      },
      "execution_count": null,
      "outputs": []
    },
    {
      "cell_type": "code",
      "source": [
        "# 숫자하나만 예측\n",
        "result = model.predict(x_test[0].reshape(1,784))\n",
        "result2 =  np.argmax(result, axis = 1)\n",
        "print(result2)          # 7\n",
        "\n",
        "# 위의 숫자의 정답을 확인\n",
        "y_test2 = np.argmax( y_test[0] )    # 1개만 볼때는 axis=1 사용안해도 됩니다.\n",
        "print(y_test2)        # 7\n"
      ],
      "metadata": {
        "colab": {
          "base_uri": "https://localhost:8080/"
        },
        "id": "kqecVK10KZBz",
        "outputId": "ea608969-d0e6-481a-997b-5f101374c52b"
      },
      "execution_count": 13,
      "outputs": [
        {
          "output_type": "stream",
          "name": "stdout",
          "text": [
            "[7]\n",
            "7\n"
          ]
        }
      ]
    },
    {
      "cell_type": "code",
      "source": [
        "# 테스트 데이터 10000장 중에 10000번째 숫자를 예측하고 정답과 비교\n",
        "\n",
        "# 숫자하나만 예측\n",
        "result = model.predict(x_test[9999].reshape(1,784))\n",
        "result2 =  np.argmax(result, axis = 1)\n",
        "print(result2)          # 6\n",
        "\n",
        "# 위의 숫자의 정답을 확인\n",
        "y_test2 = np.argmax( y_test[9999] )    # 1개만 볼때는 axis=1 사용안해도 됩니다.\n",
        "print(y_test2)        # 6\n"
      ],
      "metadata": {
        "colab": {
          "base_uri": "https://localhost:8080/"
        },
        "id": "8J4DCDgLKZEL",
        "outputId": "0e2e26b4-47ad-4d37-9b2b-97e7c86b69dc"
      },
      "execution_count": 14,
      "outputs": [
        {
          "output_type": "stream",
          "name": "stdout",
          "text": [
            "[6]\n",
            "6\n"
          ]
        }
      ]
    },
    {
      "cell_type": "code",
      "source": [
        "# 7. 모델을 저장합니다.\n",
        "\n",
        "model.save(\"/content/drive/MyDrive/my_model.h5\")"
      ],
      "metadata": {
        "id": "3TV0lkU3OlVs"
      },
      "execution_count": null,
      "outputs": []
    },
    {
      "cell_type": "code",
      "source": [
        "#  모델 불러오기\n",
        "\n",
        "from tensorflow.keras.models import load_model\n",
        "\n",
        "new_model = load_model(\"/content/drive/MyDrive/my_model.h5\")\n",
        "\n",
        "new_model.evaluate( x_test, y_test )    \n",
        "\n",
        "# 지금 불러온 모델에 테스트 이미지 한장을 입력하고 예측값을 출력하시오 !\n",
        "\n",
        "result = new_model.predict(x_test[0].reshape(1,784) )\n",
        "print( np.argmax(result) )        # 7\n",
        "\n",
        "print( np.argmax(y_test[0]) )   # 7"
      ],
      "metadata": {
        "id": "fqRJCuZdOlYS"
      },
      "execution_count": null,
      "outputs": []
    },
    {
      "cell_type": "code",
      "source": [
        ""
      ],
      "metadata": {
        "id": "sp9BOvN3Olat"
      },
      "execution_count": null,
      "outputs": []
    }
  ]
}